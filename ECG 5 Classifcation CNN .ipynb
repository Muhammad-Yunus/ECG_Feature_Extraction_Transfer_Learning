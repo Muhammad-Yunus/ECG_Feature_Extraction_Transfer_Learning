{
 "cells": [
  {
   "cell_type": "code",
   "execution_count": 1,
   "metadata": {},
   "outputs": [],
   "source": [
    "import numpy as np \n",
    "import pandas as pd\n",
    "import matplotlib.pyplot as plt\n",
    "\n",
    "from sklearn.preprocessing import OneHotEncoder\n",
    "\n",
    "from sklearn.model_selection import train_test_split\n",
    "from sklearn.metrics import classification_report\n",
    "from sklearn.metrics import confusion_matrix"
   ]
  },
  {
   "cell_type": "markdown",
   "metadata": {},
   "source": [
    "- uncomment to install library"
   ]
  },
  {
   "cell_type": "code",
   "execution_count": 2,
   "metadata": {},
   "outputs": [],
   "source": [
    "#! pip install pydot"
   ]
  },
  {
   "cell_type": "code",
   "execution_count": 3,
   "metadata": {},
   "outputs": [],
   "source": [
    "#! pip install graphviz "
   ]
  },
  {
   "cell_type": "markdown",
   "metadata": {},
   "source": [
    "___\n",
    "# 0. Setup Experiment"
   ]
  },
  {
   "cell_type": "markdown",
   "metadata": {},
   "source": [
    "- set parameter"
   ]
  },
  {
   "cell_type": "code",
   "execution_count": 4,
   "metadata": {},
   "outputs": [],
   "source": [
    "labels = ['AF', 'N']\n",
    "\n",
    "fs = 250\n",
    "\n",
    "sample_size = 6 # 6s\n",
    "\n",
    "feature_pad = 15 # set 15 if using 6s, set 50 if using 16s\n",
    "\n",
    "feature_type = \"qt_interval\" # ubah ke 'qrs_complex' atau 'rr_interval' atau 'qt_interval'\n",
    "\n",
    "threshold_acc = 0.97\n",
    "\n",
    "test_size_split=0.15\n",
    "\n",
    "EPOCHS = 10\n",
    "\n",
    "BATCH_SIZE = 32"
   ]
  },
  {
   "cell_type": "code",
   "execution_count": 5,
   "metadata": {},
   "outputs": [],
   "source": [
    "import os\n",
    "import datetime\n",
    "\n",
    "experiment_folder = \"experiment/\"\n",
    "\n",
    "experiment_name = feature_type + \"_\" + datetime.datetime.now().strftime(\"%Y_%m_%d__%H_%M_%S\")\n",
    "\n",
    "if not os.path.exists(experiment_folder + experiment_name) :\n",
    "    os.mkdir(experiment_folder + experiment_name)"
   ]
  },
  {
   "cell_type": "markdown",
   "metadata": {},
   "source": [
    "___\n",
    "# 1. Load Feature Dataset"
   ]
  },
  {
   "cell_type": "code",
   "execution_count": 6,
   "metadata": {},
   "outputs": [],
   "source": [
    "dataset_folder = 'dataset/'\n",
    "\n",
    "filenames = []\n",
    "for filename in os.listdir(dataset_folder):\n",
    "    if filename.find(\"_feature_\") > -1:\n",
    "        filenames.append(filename)"
   ]
  },
  {
   "cell_type": "code",
   "execution_count": 7,
   "metadata": {},
   "outputs": [
    {
     "data": {
      "text/plain": [
       "['test_all_feature_qrs_complex.csv',\n",
       " 'test_all_feature_qt_interval.csv',\n",
       " 'test_all_feature_rr_interval.csv',\n",
       " 'train_all_feature_qrs_complex.csv',\n",
       " 'train_all_feature_qt_interval.csv',\n",
       " 'train_all_feature_rr_interval.csv']"
      ]
     },
     "execution_count": 7,
     "metadata": {},
     "output_type": "execute_result"
    }
   ],
   "source": [
    "filenames"
   ]
  },
  {
   "cell_type": "code",
   "execution_count": 8,
   "metadata": {},
   "outputs": [
    {
     "name": "stdout",
     "output_type": "stream",
     "text": [
      "Reading feature qt_interval\n"
     ]
    }
   ],
   "source": [
    "test_df = []\n",
    "train_df = []\n",
    "\n",
    "print(\"Reading feature %s\" % feature_type)\n",
    "\n",
    "if feature_type == 'rr_interval' :\n",
    "    test_df = pd.read_csv(dataset_folder + \"test_all_feature_rr_interval.csv\", header=None)\n",
    "    train_df = pd.read_csv(dataset_folder + \"train_all_feature_rr_interval.csv\", header=None)\n",
    "if feature_type == 'qrs_complex' :\n",
    "    test_df = pd.read_csv(dataset_folder + \"test_all_feature_qrs_complex.csv\", header=None)\n",
    "    train_df = pd.read_csv(dataset_folder + \"train_all_feature_qrs_complex.csv\", header=None)\n",
    "if feature_type == 'qt_interval' :\n",
    "    test_df = pd.read_csv(dataset_folder + \"test_all_feature_qt_interval.csv\", header=None)\n",
    "    train_df = pd.read_csv(dataset_folder + \"train_all_feature_qt_interval.csv\", header=None)"
   ]
  },
  {
   "cell_type": "markdown",
   "metadata": {},
   "source": [
    "- merge dataset"
   ]
  },
  {
   "cell_type": "code",
   "execution_count": 9,
   "metadata": {},
   "outputs": [],
   "source": [
    "featurs_dfs = pd.concat([test_df, train_df])"
   ]
  },
  {
   "cell_type": "code",
   "execution_count": 10,
   "metadata": {},
   "outputs": [
    {
     "data": {
      "text/html": [
       "<div>\n",
       "<style scoped>\n",
       "    .dataframe tbody tr th:only-of-type {\n",
       "        vertical-align: middle;\n",
       "    }\n",
       "\n",
       "    .dataframe tbody tr th {\n",
       "        vertical-align: top;\n",
       "    }\n",
       "\n",
       "    .dataframe thead th {\n",
       "        text-align: right;\n",
       "    }\n",
       "</style>\n",
       "<table border=\"1\" class=\"dataframe\">\n",
       "  <thead>\n",
       "    <tr style=\"text-align: right;\">\n",
       "      <th></th>\n",
       "      <th>0</th>\n",
       "      <th>1</th>\n",
       "      <th>2</th>\n",
       "      <th>3</th>\n",
       "      <th>4</th>\n",
       "      <th>5</th>\n",
       "      <th>6</th>\n",
       "      <th>7</th>\n",
       "      <th>8</th>\n",
       "      <th>9</th>\n",
       "      <th>...</th>\n",
       "      <th>21</th>\n",
       "      <th>22</th>\n",
       "      <th>23</th>\n",
       "      <th>24</th>\n",
       "      <th>25</th>\n",
       "      <th>26</th>\n",
       "      <th>27</th>\n",
       "      <th>28</th>\n",
       "      <th>29</th>\n",
       "      <th>30</th>\n",
       "    </tr>\n",
       "  </thead>\n",
       "  <tbody>\n",
       "    <tr>\n",
       "      <th>0</th>\n",
       "      <td>108.0</td>\n",
       "      <td>51.0</td>\n",
       "      <td>124.0</td>\n",
       "      <td>109.0</td>\n",
       "      <td>83.0</td>\n",
       "      <td>46.0</td>\n",
       "      <td>0.0</td>\n",
       "      <td>0.0</td>\n",
       "      <td>0.0</td>\n",
       "      <td>0.0</td>\n",
       "      <td>...</td>\n",
       "      <td>0.0</td>\n",
       "      <td>0.0</td>\n",
       "      <td>0.0</td>\n",
       "      <td>0.0</td>\n",
       "      <td>0.0</td>\n",
       "      <td>0.0</td>\n",
       "      <td>0.0</td>\n",
       "      <td>0.0</td>\n",
       "      <td>0.0</td>\n",
       "      <td>1.0</td>\n",
       "    </tr>\n",
       "    <tr>\n",
       "      <th>1</th>\n",
       "      <td>66.0</td>\n",
       "      <td>101.0</td>\n",
       "      <td>106.0</td>\n",
       "      <td>104.0</td>\n",
       "      <td>112.0</td>\n",
       "      <td>0.0</td>\n",
       "      <td>0.0</td>\n",
       "      <td>0.0</td>\n",
       "      <td>0.0</td>\n",
       "      <td>0.0</td>\n",
       "      <td>...</td>\n",
       "      <td>0.0</td>\n",
       "      <td>0.0</td>\n",
       "      <td>0.0</td>\n",
       "      <td>0.0</td>\n",
       "      <td>0.0</td>\n",
       "      <td>0.0</td>\n",
       "      <td>0.0</td>\n",
       "      <td>0.0</td>\n",
       "      <td>0.0</td>\n",
       "      <td>1.0</td>\n",
       "    </tr>\n",
       "    <tr>\n",
       "      <th>2</th>\n",
       "      <td>75.0</td>\n",
       "      <td>0.0</td>\n",
       "      <td>75.0</td>\n",
       "      <td>94.0</td>\n",
       "      <td>76.0</td>\n",
       "      <td>47.0</td>\n",
       "      <td>65.0</td>\n",
       "      <td>63.0</td>\n",
       "      <td>0.0</td>\n",
       "      <td>0.0</td>\n",
       "      <td>...</td>\n",
       "      <td>48.0</td>\n",
       "      <td>0.0</td>\n",
       "      <td>0.0</td>\n",
       "      <td>0.0</td>\n",
       "      <td>0.0</td>\n",
       "      <td>0.0</td>\n",
       "      <td>0.0</td>\n",
       "      <td>0.0</td>\n",
       "      <td>0.0</td>\n",
       "      <td>0.0</td>\n",
       "    </tr>\n",
       "    <tr>\n",
       "      <th>3</th>\n",
       "      <td>0.0</td>\n",
       "      <td>98.0</td>\n",
       "      <td>99.0</td>\n",
       "      <td>85.0</td>\n",
       "      <td>83.0</td>\n",
       "      <td>77.0</td>\n",
       "      <td>100.0</td>\n",
       "      <td>75.0</td>\n",
       "      <td>73.0</td>\n",
       "      <td>81.0</td>\n",
       "      <td>...</td>\n",
       "      <td>106.0</td>\n",
       "      <td>103.0</td>\n",
       "      <td>112.0</td>\n",
       "      <td>76.0</td>\n",
       "      <td>0.0</td>\n",
       "      <td>0.0</td>\n",
       "      <td>0.0</td>\n",
       "      <td>0.0</td>\n",
       "      <td>0.0</td>\n",
       "      <td>1.0</td>\n",
       "    </tr>\n",
       "    <tr>\n",
       "      <th>4</th>\n",
       "      <td>81.0</td>\n",
       "      <td>79.0</td>\n",
       "      <td>90.0</td>\n",
       "      <td>82.0</td>\n",
       "      <td>79.0</td>\n",
       "      <td>86.0</td>\n",
       "      <td>83.0</td>\n",
       "      <td>84.0</td>\n",
       "      <td>83.0</td>\n",
       "      <td>107.0</td>\n",
       "      <td>...</td>\n",
       "      <td>93.0</td>\n",
       "      <td>85.0</td>\n",
       "      <td>94.0</td>\n",
       "      <td>0.0</td>\n",
       "      <td>0.0</td>\n",
       "      <td>0.0</td>\n",
       "      <td>0.0</td>\n",
       "      <td>0.0</td>\n",
       "      <td>0.0</td>\n",
       "      <td>1.0</td>\n",
       "    </tr>\n",
       "  </tbody>\n",
       "</table>\n",
       "<p>5 rows × 31 columns</p>\n",
       "</div>"
      ],
      "text/plain": [
       "      0      1      2      3      4     5      6     7     8      9   ...  \\\n",
       "0  108.0   51.0  124.0  109.0   83.0  46.0    0.0   0.0   0.0    0.0  ...   \n",
       "1   66.0  101.0  106.0  104.0  112.0   0.0    0.0   0.0   0.0    0.0  ...   \n",
       "2   75.0    0.0   75.0   94.0   76.0  47.0   65.0  63.0   0.0    0.0  ...   \n",
       "3    0.0   98.0   99.0   85.0   83.0  77.0  100.0  75.0  73.0   81.0  ...   \n",
       "4   81.0   79.0   90.0   82.0   79.0  86.0   83.0  84.0  83.0  107.0  ...   \n",
       "\n",
       "      21     22     23    24   25   26   27   28   29   30  \n",
       "0    0.0    0.0    0.0   0.0  0.0  0.0  0.0  0.0  0.0  1.0  \n",
       "1    0.0    0.0    0.0   0.0  0.0  0.0  0.0  0.0  0.0  1.0  \n",
       "2   48.0    0.0    0.0   0.0  0.0  0.0  0.0  0.0  0.0  0.0  \n",
       "3  106.0  103.0  112.0  76.0  0.0  0.0  0.0  0.0  0.0  1.0  \n",
       "4   93.0   85.0   94.0   0.0  0.0  0.0  0.0  0.0  0.0  1.0  \n",
       "\n",
       "[5 rows x 31 columns]"
      ]
     },
     "execution_count": 10,
     "metadata": {},
     "output_type": "execute_result"
    }
   ],
   "source": [
    "featurs_dfs.head()"
   ]
  },
  {
   "cell_type": "code",
   "execution_count": null,
   "metadata": {},
   "outputs": [],
   "source": []
  },
  {
   "cell_type": "code",
   "execution_count": 142,
   "metadata": {},
   "outputs": [],
   "source": [
    "X = featurs_dfs.values[:, :feature_pad*2].reshape(-1, feature_pad*2, 1)\n",
    "y = featurs_dfs.values[:, feature_pad*2]"
   ]
  },
  {
   "cell_type": "code",
   "execution_count": 143,
   "metadata": {},
   "outputs": [
    {
     "data": {
      "text/plain": [
       "((8492, 30, 1), (8492,))"
      ]
     },
     "execution_count": 143,
     "metadata": {},
     "output_type": "execute_result"
    }
   ],
   "source": [
    "X.shape, y.shape"
   ]
  },
  {
   "cell_type": "markdown",
   "metadata": {},
   "source": [
    "# 2. Splitting Dataset"
   ]
  },
  {
   "cell_type": "markdown",
   "metadata": {},
   "source": [
    "- convert to categorical"
   ]
  },
  {
   "cell_type": "code",
   "execution_count": 144,
   "metadata": {},
   "outputs": [
    {
     "name": "stdout",
     "output_type": "stream",
     "text": [
      "Categories : [0. 1.]\n"
     ]
    }
   ],
   "source": [
    "enc = OneHotEncoder()\n",
    "enc.fit(y.reshape(-1, 1))\n",
    "print(\"Categories :\", enc.categories_[0])\n",
    "y_categorical = enc.transform(y.reshape(-1, 1)).toarray()"
   ]
  },
  {
   "cell_type": "code",
   "execution_count": 145,
   "metadata": {},
   "outputs": [
    {
     "name": "stdout",
     "output_type": "stream",
     "text": [
      "splitting dataset, 15% for testing dan 85% for training\n",
      "dataset size after splitting :\n",
      "(7218, 2) (7218, 30, 1) (1274, 2) (1274, 30, 1)\n"
     ]
    }
   ],
   "source": [
    "print(\"splitting dataset, %d%% for testing dan %d%% for training\" % (test_size_split*100 , (1-test_size_split)*100))\n",
    "\n",
    "X_train, X_test, y_train, y_test = train_test_split(\n",
    "                                    X, y_categorical, \n",
    "                                    test_size=test_size_split,\n",
    "                                    random_state=42)\n",
    "\n",
    "print(\"dataset size after splitting :\")\n",
    "print(y_train.shape, X_train.shape, y_test.shape, X_test.shape)"
   ]
  },
  {
   "cell_type": "markdown",
   "metadata": {},
   "source": [
    "# 3. Utils Function"
   ]
  },
  {
   "cell_type": "code",
   "execution_count": 146,
   "metadata": {},
   "outputs": [],
   "source": [
    "import json\n",
    "\n",
    "def writeJson_config(Path, Name, Data, append):\n",
    "    mode = 'a+' if append else 'w'\n",
    "    full_path = Path + Name\n",
    "\n",
    "    with open(full_path, mode=mode) as json_config:\n",
    "        json.dump(Data, json.load(json_config) if append else json_config)\n",
    "    \n",
    "    return 'success' \n"
   ]
  },
  {
   "cell_type": "code",
   "execution_count": 147,
   "metadata": {},
   "outputs": [],
   "source": [
    "import itertools\n",
    "def plot_confusion_matrix(cm, classes,\n",
    "                          normalize=False,\n",
    "                          title='Confusion matrix',\n",
    "                          cmap=plt.cm.Blues):\n",
    "    if normalize:\n",
    "        cm = cm.astype('float') / cm.sum(axis=1)[:, np.newaxis]\n",
    "\n",
    "    plt.figure(figsize=(5, 5))\n",
    "    \n",
    "    plt.imshow(cm, interpolation='nearest', cmap=cmap)\n",
    "    plt.title(title)\n",
    "    plt.colorbar()\n",
    "    tick_marks = np.arange(len(classes))\n",
    "    plt.xticks(tick_marks, classes, rotation=45)\n",
    "    plt.yticks(tick_marks, classes)\n",
    "\n",
    "    fmt = '.2f' if normalize else 'd'\n",
    "    thresh = cm.max() / 2.\n",
    "    for i, j in itertools.product(range(cm.shape[0]), range(cm.shape[1])):\n",
    "        plt.text(j, i, format(cm[i, j], fmt),\n",
    "                 horizontalalignment=\"center\",\n",
    "                 color=\"white\" if cm[i, j] > thresh else \"black\")\n",
    "\n",
    "    plt.tight_layout()\n",
    "    plt.ylabel('True label')\n",
    "    plt.xlabel('Predicted label')\n",
    "    \n",
    "    plt.savefig(experiment_folder + experiment_name +\n",
    "               \"/plot-confusion-matrix-%s.png\" % feature_type)\n",
    "    \n",
    "    plt.show()"
   ]
  },
  {
   "cell_type": "code",
   "execution_count": 148,
   "metadata": {},
   "outputs": [],
   "source": [
    "def evaluate_model(history):\n",
    "    \n",
    "    fig1, ax_acc = plt.subplots()\n",
    "    plt.plot(history.history['acc'])\n",
    "    plt.plot(history.history['val_acc'])\n",
    "    plt.xlabel('Epoch')\n",
    "    plt.ylabel('Accuracy')\n",
    "    plt.title('Model - Accuracy')\n",
    "    plt.legend(['Training', 'Validation'], loc='lower right')\n",
    "    plt.grid()\n",
    "    plt.show()\n",
    "    fig1.savefig(experiment_folder + experiment_name +\n",
    "               \"/plot-accuracy-%s.png\" % feature_type)\n",
    "    \n",
    "    fig2, ax_loss = plt.subplots()\n",
    "    plt.plot(history.history['loss'])\n",
    "    plt.plot(history.history['val_loss'])\n",
    "    plt.xlabel('Epoch')\n",
    "    plt.ylabel('Loss')\n",
    "    plt.title('Model- Loss')\n",
    "    plt.legend(['Training', 'Validation'], loc='upper right')\n",
    "    plt.grid()\n",
    "    plt.show()\n",
    "    fig2.savefig(experiment_folder + experiment_name +\n",
    "               \"/plot-loss-%s.png\" % feature_type)"
   ]
  },
  {
   "cell_type": "markdown",
   "metadata": {},
   "source": [
    "# 4. Building Convolutional Neural Network\n",
    "\n",
    "- Import Keras library"
   ]
  },
  {
   "cell_type": "code",
   "execution_count": 149,
   "metadata": {},
   "outputs": [],
   "source": [
    "from tensorflow.keras.models import Sequential\n",
    "from tensorflow.keras.layers import Dense, Conv1D, MaxPool1D, Flatten, Dropout\n",
    "#from tensorflow.keras.layers import Conv2D, MaxPool2D\n",
    "from tensorflow.keras.layers import Input\n",
    "from tensorflow.keras.layers import BatchNormalization\n",
    "from tensorflow.keras.callbacks import EarlyStopping, ModelCheckpoint\n",
    "\n",
    "from tensorflow import keras"
   ]
  },
  {
   "cell_type": "markdown",
   "metadata": {},
   "source": [
    "- Buat CNN Model dengan aritektur network : \n",
    "`CONV-POOL-CONV-POOL-CONV-POOL-FC`\n",
    "- CONV : 1D Convolutional Layer\n",
    "- POOL : MAX Pooling Layer\n",
    "- FC   : Dense Layer + Activation"
   ]
  },
  {
   "cell_type": "code",
   "execution_count": 186,
   "metadata": {},
   "outputs": [],
   "source": [
    "def cnn_model(max_len):\n",
    "    model = Sequential()\n",
    "    \n",
    "    model.add(Conv1D(filters=32,\n",
    "                     kernel_size=2,\n",
    "                     activation='relu',\n",
    "                     padding='same',\n",
    "                     input_shape=(max_len, 1)))\n",
    "    model.add(BatchNormalization())\n",
    "    model.add(MaxPool1D(pool_size=2,\n",
    "                        strides=2,\n",
    "                        padding='same'))\n",
    "    \n",
    "    \n",
    "    model.add(Conv1D(filters=32,\n",
    "                     kernel_size=3,\n",
    "                     activation='relu',\n",
    "                     padding='same'))\n",
    "    model.add(BatchNormalization())\n",
    "    model.add(MaxPool1D(pool_size=2,\n",
    "                        strides=2,\n",
    "                        padding='same'))\n",
    "    \n",
    "    \n",
    "    model.add(Conv1D(filters=32,\n",
    "                     kernel_size=3,\n",
    "                     activation='relu',\n",
    "                     padding='same'))\n",
    "    model.add(BatchNormalization())\n",
    "    model.add(MaxPool1D(pool_size=2,\n",
    "                        strides=2,\n",
    "                        padding='same'))\n",
    "    \n",
    "    \n",
    "    # Fully Connected layer (FC)\n",
    "    model.add(Flatten())\n",
    "    model.add(Dropout(0.3))\n",
    "    model.add(Dense(128, \n",
    "                    activation='relu'))\n",
    "    model.add(Dense(32, \n",
    "                    activation='relu'))\n",
    "    model.add(Dense(2, \n",
    "                    activation='softmax'))\n",
    "    \n",
    "    model.summary()\n",
    "    model.compile(optimizer='adam', \n",
    "                  loss='categorical_crossentropy',\n",
    "                  metrics = ['accuracy'])\n",
    "\n",
    "    return model"
   ]
  },
  {
   "cell_type": "markdown",
   "metadata": {},
   "source": [
    "- sekarang kita akan melakukan proses training model dengan memanfaatkan `.fit()` pada model yang kita buat diatas.\n",
    "- selain itu kita gunakan juka teknik `EarlyStoping()` untuk menghentikan proses training jika terjadi divergensi pada validation data yang diakibatkan oleh overfitting. \n",
    "- pada `EarlyStoping()` kita gunakan parmeter `patience=8` yang artinya jika proses training untuk 8 epoch tidak terjadi peningkatan maka hentikan proses training."
   ]
  },
  {
   "cell_type": "code",
   "execution_count": 187,
   "metadata": {},
   "outputs": [],
   "source": [
    "def check_model(model_, x, y, x_test, y_test, epochs_, batch_size_):\n",
    "    callbacks = [EarlyStopping(monitor='val_loss', patience=3),\n",
    "                 ModelCheckpoint(filepath='cnn_classif_best_model.h5', monitor='val_loss', save_best_only=True)]\n",
    "\n",
    "    hist = model_.fit(x, \n",
    "                      y,\n",
    "                      epochs=epochs_,\n",
    "                      callbacks=callbacks, \n",
    "                      batch_size=batch_size_,\n",
    "                      shuffle=True,\n",
    "                      #validation_split=0.15)\n",
    "                      validation_data=(x_test, y_test))\n",
    "    #model_.load_weights('cnn_classif_best_model.h5')\n",
    "    return hist "
   ]
  },
  {
   "cell_type": "markdown",
   "metadata": {},
   "source": [
    "# 5. Train Model CNN"
   ]
  },
  {
   "cell_type": "markdown",
   "metadata": {},
   "source": [
    "- jalankan proses training dengan `EPOCH` sebanyak 16 dan `BATCH_SIZE` sebesar 32"
   ]
  },
  {
   "cell_type": "code",
   "execution_count": 188,
   "metadata": {},
   "outputs": [
    {
     "name": "stdout",
     "output_type": "stream",
     "text": [
      "_________________________________________________________________\n",
      "Layer (type)                 Output Shape              Param #   \n",
      "=================================================================\n",
      "conv1d_40 (Conv1D)           (None, 30, 32)            96        \n",
      "_________________________________________________________________\n",
      "batch_normalization_43 (Batc (None, 30, 32)            128       \n",
      "_________________________________________________________________\n",
      "max_pooling1d_38 (MaxPooling (None, 15, 32)            0         \n",
      "_________________________________________________________________\n",
      "conv1d_41 (Conv1D)           (None, 15, 32)            3104      \n",
      "_________________________________________________________________\n",
      "batch_normalization_44 (Batc (None, 15, 32)            128       \n",
      "_________________________________________________________________\n",
      "max_pooling1d_39 (MaxPooling (None, 8, 32)             0         \n",
      "_________________________________________________________________\n",
      "conv1d_42 (Conv1D)           (None, 8, 32)             3104      \n",
      "_________________________________________________________________\n",
      "batch_normalization_45 (Batc (None, 8, 32)             128       \n",
      "_________________________________________________________________\n",
      "max_pooling1d_40 (MaxPooling (None, 4, 32)             0         \n",
      "_________________________________________________________________\n",
      "flatten_18 (Flatten)         (None, 128)               0         \n",
      "_________________________________________________________________\n",
      "dropout_18 (Dropout)         (None, 128)               0         \n",
      "_________________________________________________________________\n",
      "dense_54 (Dense)             (None, 128)               16512     \n",
      "_________________________________________________________________\n",
      "dense_55 (Dense)             (None, 32)                4128      \n",
      "_________________________________________________________________\n",
      "dense_56 (Dense)             (None, 2)                 66        \n",
      "=================================================================\n",
      "Total params: 27,394\n",
      "Trainable params: 27,202\n",
      "Non-trainable params: 192\n",
      "_________________________________________________________________\n"
     ]
    }
   ],
   "source": [
    "max_len = X_train[0].shape[0]\n",
    "\n",
    "model = cnn_model(max_len)"
   ]
  },
  {
   "cell_type": "markdown",
   "metadata": {},
   "source": [
    "- Save model arhitecture"
   ]
  },
  {
   "cell_type": "code",
   "execution_count": 189,
   "metadata": {},
   "outputs": [],
   "source": [
    "with open(experiment_folder + experiment_name +\n",
    "              '/model_summary_%s.txt' % feature_type, 'w') as f:\n",
    "    model.summary(print_fn=lambda x: f.write(x + '\\n'))"
   ]
  },
  {
   "cell_type": "markdown",
   "metadata": {},
   "source": [
    "- Train model"
   ]
  },
  {
   "cell_type": "code",
   "execution_count": 190,
   "metadata": {},
   "outputs": [
    {
     "name": "stdout",
     "output_type": "stream",
     "text": [
      "Train on 7218 samples, validate on 1274 samples\n",
      "Epoch 1/10\n",
      "7218/7218 [==============================] - 18s 3ms/step - loss: 0.4356 - acc: 0.8042 - val_loss: 0.3818 - val_acc: 0.8391\n",
      "Epoch 2/10\n",
      "7218/7218 [==============================] - 6s 825us/step - loss: 0.3333 - acc: 0.8552 - val_loss: 0.3050 - val_acc: 0.8713\n",
      "Epoch 3/10\n",
      "7218/7218 [==============================] - 6s 794us/step - loss: 0.3085 - acc: 0.8694 - val_loss: 0.3080 - val_acc: 0.8642 0.3105 - ac\n",
      "Epoch 4/10\n",
      "7218/7218 [==============================] - 6s 803us/step - loss: 0.2806 - acc: 0.8792 - val_loss: 0.3369 - val_acc: 0.8509\n",
      "Epoch 5/10\n",
      "7218/7218 [==============================] - 6s 821us/step - loss: 0.2685 - acc: 0.8872 - val_loss: 0.2763 - val_acc: 0.8744\n",
      "Epoch 6/10\n",
      "7218/7218 [==============================] - 6s 790us/step - loss: 0.2622 - acc: 0.8879 - val_loss: 0.3209 - val_acc: 0.8626\n",
      "Epoch 7/10\n",
      "7218/7218 [==============================] - 6s 827us/step - loss: 0.2425 - acc: 0.8996 - val_loss: 0.3081 - val_acc: 0.8642\n",
      "Epoch 8/10\n",
      "7218/7218 [==============================] - 6s 833us/step - loss: 0.2385 - acc: 0.8965 - val_loss: 0.2582 - val_acc: 0.8917\n",
      "Epoch 9/10\n",
      "7218/7218 [==============================] - 7s 908us/step - loss: 0.2263 - acc: 0.9052 - val_loss: 0.2541 - val_acc: 0.8932\n",
      "Epoch 10/10\n",
      "7218/7218 [==============================] - 6s 822us/step - loss: 0.2269 - acc: 0.9086 - val_loss: 0.2558 - val_acc: 0.8846\n"
     ]
    }
   ],
   "source": [
    "history=check_model(model, X_train, y_train, X_test, y_test, EPOCHS, BATCH_SIZE)\n"
   ]
  },
  {
   "cell_type": "markdown",
   "metadata": {},
   "source": [
    "- Save model binary"
   ]
  },
  {
   "cell_type": "code",
   "execution_count": 191,
   "metadata": {},
   "outputs": [],
   "source": [
    "model.save(experiment_folder + experiment_name + \"/CNN_Classification_model_%s.h5\" % feature_type)"
   ]
  },
  {
   "cell_type": "markdown",
   "metadata": {},
   "source": [
    "- save model training history (log)"
   ]
  },
  {
   "cell_type": "code",
   "execution_count": 192,
   "metadata": {},
   "outputs": [],
   "source": [
    "pd.DataFrame.from_dict(history.history).to_csv( experiment_folder + experiment_name +\n",
    "                                               '/history_train_CNN_feature_%s.csv' % feature_type, index=False)"
   ]
  },
  {
   "cell_type": "markdown",
   "metadata": {},
   "source": [
    "# 6. Evaluate Model\n",
    "\n",
    "- Plot Accuracy vs Epochs\n",
    "- Plot Loss vs Epochs"
   ]
  },
  {
   "cell_type": "code",
   "execution_count": 193,
   "metadata": {},
   "outputs": [
    {
     "data": {
      "image/png": "[encoded data removed]",
      "text/plain": [
       "<Figure size 432x288 with 1 Axes>"
      ]
     },
     "metadata": {
      "needs_background": "light"
     },
     "output_type": "display_data"
    },
    {
     "data": {
      "image/png": "[encoded data removed]",
      "text/plain": [
       "<Figure size 432x288 with 1 Axes>"
      ]
     },
     "metadata": {
      "needs_background": "light"
     },
     "output_type": "display_data"
    }
   ],
   "source": [
    "evaluate_model(history)    "
   ]
  },
  {
   "cell_type": "markdown",
   "metadata": {},
   "source": [
    "- Plot Confusion Matrix"
   ]
  },
  {
   "cell_type": "code",
   "execution_count": 194,
   "metadata": {},
   "outputs": [],
   "source": [
    "# predict test data\n",
    "y_pred=model.predict(X_test)"
   ]
  },
  {
   "cell_type": "code",
   "execution_count": 195,
   "metadata": {},
   "outputs": [
    {
     "data": {
      "image/png": "[encoded data removed]",
      "text/plain": [
       "<Figure size 360x360 with 2 Axes>"
      ]
     },
     "metadata": {
      "needs_background": "light"
     },
     "output_type": "display_data"
    }
   ],
   "source": [
    "# Compute confusion matrix\n",
    "cnf_matrix = confusion_matrix(y_test.argmax(axis=1), y_pred.argmax(axis=1))\n",
    "np.set_printoptions(precision=2)\n",
    "\n",
    "\n",
    "# Plot non-normalized confusion matrix\n",
    "plot_confusion_matrix(cnf_matrix, classes=['AF', 'N'],normalize=True,\n",
    "                      title='Confusion matrix, with normalization')"
   ]
  },
  {
   "cell_type": "markdown",
   "metadata": {},
   "source": [
    "- dari hasil plot confusion matrix, dapat dilihat tiap kelas memiliki banyak TRUE POSITIVE predicted data\n",
    "- semakin gelap kebiruan menunjukan banyaknya hasil predicted label untuk true label tersebut"
   ]
  },
  {
   "cell_type": "markdown",
   "metadata": {},
   "source": [
    "- Plot Classification Report"
   ]
  },
  {
   "cell_type": "code",
   "execution_count": 196,
   "metadata": {},
   "outputs": [
    {
     "name": "stdout",
     "output_type": "stream",
     "text": [
      "              precision    recall  f1-score   support\n",
      "\n",
      "          AF       0.90      0.88      0.89       666\n",
      "           N       0.87      0.89      0.88       608\n",
      "\n",
      "    accuracy                           0.88      1274\n",
      "   macro avg       0.88      0.89      0.88      1274\n",
      "weighted avg       0.89      0.88      0.88      1274\n",
      "\n"
     ]
    }
   ],
   "source": [
    "print(classification_report(y_test.argmax(axis=1), \n",
    "                            y_pred.argmax(axis=1), \n",
    "                            target_names=['AF', 'N']))"
   ]
  },
  {
   "cell_type": "markdown",
   "metadata": {},
   "source": [
    "- Jika kita lihat, nilai report untuk seluruh klas juga bagus, \n",
    "- Nilai recall dan precission juga tinggi, menunjukan model mampu memprediksi data dengan baik untuk seluruh data pada sclass tersebut "
   ]
  },
  {
   "cell_type": "markdown",
   "metadata": {},
   "source": [
    "- save report"
   ]
  },
  {
   "cell_type": "code",
   "execution_count": 197,
   "metadata": {},
   "outputs": [
    {
     "data": {
      "text/plain": [
       "'success'"
      ]
     },
     "execution_count": 197,
     "metadata": {},
     "output_type": "execute_result"
    }
   ],
   "source": [
    "report_dict = classification_report(y_test.argmax(axis=1), \n",
    "                            y_pred.argmax(axis=1), \n",
    "                            target_names=['AF', 'N'],\n",
    "                            output_dict=True)\n",
    "\n",
    "writeJson_config(experiment_folder + experiment_name + \"/\", \n",
    "                 \"report-%s.json\" % feature_type, report_dict, False)"
   ]
  },
  {
   "cell_type": "markdown",
   "metadata": {},
   "source": [
    "- save model spec"
   ]
  },
  {
   "cell_type": "code",
   "execution_count": 198,
   "metadata": {},
   "outputs": [
    {
     "data": {
      "text/plain": [
       "'success'"
      ]
     },
     "execution_count": 198,
     "metadata": {},
     "output_type": "execute_result"
    }
   ],
   "source": [
    "model_spec_dict = {}\n",
    "model_spec_dict['train_size'] = [y_train.shape, X_train.shape]\n",
    "model_spec_dict['test_size'] =  [y_test.shape, X_test.shape]\n",
    "model_spec_dict['epoch'] =  EPOCHS\n",
    "model_spec_dict['batch_size'] =  BATCH_SIZE\n",
    "model_spec_dict['test_size_split'] = test_size_split\n",
    "model_spec_dict['sample_size'] = sample_size\n",
    "model_spec_dict['feature_pad'] = feature_pad\n",
    "\n",
    "writeJson_config(experiment_folder + experiment_name + \"/\", \n",
    "                 \"model-spec-%s.json\" % feature_type, model_spec_dict, False)"
   ]
  },
  {
   "cell_type": "markdown",
   "metadata": {},
   "source": [
    "- Update Experiment Header"
   ]
  },
  {
   "cell_type": "code",
   "execution_count": 199,
   "metadata": {},
   "outputs": [],
   "source": [
    "with open(experiment_folder + \n",
    "              '/experiment_header.txt', 'a') as f:\n",
    "    f.write(\"Experiment Name \\t: %s \\n\" % experiment_name)\n",
    "    f.write(\"Accuracy \\t\\t: %.4f\\n\\n\\n\" % report_dict['accuracy'])"
   ]
  },
  {
   "cell_type": "markdown",
   "metadata": {},
   "source": [
    "- move best experiment to main dir (>= threshold accuracy)"
   ]
  },
  {
   "cell_type": "code",
   "execution_count": 200,
   "metadata": {},
   "outputs": [
    {
     "name": "stdout",
     "output_type": "stream",
     "text": [
      "[INFO] accuracy 0.8846, is under threshold !\n"
     ]
    }
   ],
   "source": [
    "if report_dict['accuracy'] >= threshold_acc:\n",
    "    import shutil\n",
    "    \n",
    "    shutil.copy(experiment_folder + experiment_name + \"/plot-accuracy-%s.png\" % feature_type, \"5. plot-accuracy-%s.png\" % feature_type)\n",
    "    shutil.copy(experiment_folder + experiment_name + \"/plot-loss-%s.png\" % feature_type, \"5. plot-loss-%s.png\" % feature_type)\n",
    "    shutil.copy(experiment_folder + experiment_name + \"/plot-confusion-matrix-%s.png\" % feature_type, \"5. plot-confusion-matrix-%s.png\" % feature_type)\n",
    "    shutil.copy(experiment_folder + experiment_name + \"/history_train_CNN_feature_%s.csv\" % feature_type, \"history_train_CNN_feature_%s.csv\" % feature_type)\n",
    "    shutil.copy(experiment_folder + experiment_name + \"/report-%s.json\" % feature_type, \"classification-report-%s.json\" % feature_type)\n",
    "    shutil.copy(experiment_folder + experiment_name + \"/CNN_Classification_model_%s.h5\" % feature_type, \"CNN_Classification_model_%s.h5\" % feature_type)\n",
    "    print(\"[INFO] success move best result to main dir!\")\n",
    "else :\n",
    "    print(\"[INFO] accuracy %.4f, is under threshold !\" % report_dict['accuracy'])"
   ]
  },
  {
   "cell_type": "code",
   "execution_count": null,
   "metadata": {},
   "outputs": [],
   "source": []
  },
  {
   "cell_type": "code",
   "execution_count": null,
   "metadata": {},
   "outputs": [],
   "source": []
  }
 ],
 "metadata": {
  "kernelspec": {
   "display_name": "Python [conda env:GPU_ENV]",
   "language": "python",
   "name": "conda-env-GPU_ENV-py"
  },
  "language_info": {
   "codemirror_mode": {
    "name": "ipython",
    "version": 3
   },
   "file_extension": ".py",
   "mimetype": "text/x-python",
   "name": "python",
   "nbconvert_exporter": "python",
   "pygments_lexer": "ipython3",
   "version": "3.6.12"
  }
 },
 "nbformat": 4,
 "nbformat_minor": 4
}
