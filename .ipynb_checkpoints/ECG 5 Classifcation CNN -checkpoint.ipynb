{
 "cells": [
  {
   "cell_type": "code",
   "execution_count": 1,
   "metadata": {},
   "outputs": [],
   "source": [
    "import numpy as np \n",
    "import pandas as pd\n",
    "import matplotlib.pyplot as plt\n",
    "\n",
    "from sklearn.preprocessing import OneHotEncoder\n",
    "\n",
    "from sklearn.model_selection import train_test_split\n",
    "from sklearn.metrics import classification_report\n",
    "from sklearn.metrics import confusion_matrix"
   ]
  },
  {
   "cell_type": "markdown",
   "metadata": {},
   "source": [
    "- uncomment to install library"
   ]
  },
  {
   "cell_type": "code",
   "execution_count": 2,
   "metadata": {},
   "outputs": [],
   "source": [
    "#! pip install pydot"
   ]
  },
  {
   "cell_type": "code",
   "execution_count": 3,
   "metadata": {},
   "outputs": [],
   "source": [
    "#! pip install graphviz "
   ]
  },
  {
   "cell_type": "markdown",
   "metadata": {},
   "source": [
    "___\n",
    "# 0. Setup Experiment"
   ]
  },
  {
   "cell_type": "markdown",
   "metadata": {},
   "source": [
    "- set parameter"
   ]
  },
  {
   "cell_type": "code",
   "execution_count": 4,
   "metadata": {},
   "outputs": [],
   "source": [
    "labels = ['AF', 'N']\n",
    "\n",
    "fs = 250\n",
    "\n",
    "sample_size = 6 # 6s\n",
    "\n",
    "feature_pad = 15 # set 15 if using 6s, set 50 if using 16s\n",
    "\n",
    "# feature_type supported parameter \n",
    "# 'qrs_complex' / 'rr_interval' / 'qt_interval'\n",
    "# 'qrs_complex,rr_interval' / 'qrs_complex,qt_interval' / 'rr_interval,qt_interval'\n",
    "# 'qrs_complex,rr_interval,qt_interval'\n",
    "feature_type = \"qrs_complex,rr_interval,qt_interval\" \n",
    "\n",
    "threshold_acc = 0.97\n",
    "\n",
    "test_size_split=0.15\n",
    "\n",
    "EPOCHS = 10\n",
    "\n",
    "BATCH_SIZE = 32"
   ]
  },
  {
   "cell_type": "code",
   "execution_count": 5,
   "metadata": {},
   "outputs": [],
   "source": [
    "import os\n",
    "import datetime\n",
    "\n",
    "experiment_folder = \"experiment/\"\n",
    "\n",
    "experiment_name = feature_type + \"_\" + datetime.datetime.now().strftime(\"%Y_%m_%d__%H_%M_%S\")\n",
    "\n",
    "if not os.path.exists(experiment_folder + experiment_name) :\n",
    "    os.mkdir(experiment_folder + experiment_name)"
   ]
  },
  {
   "cell_type": "markdown",
   "metadata": {},
   "source": [
    "___\n",
    "# 1. Load Feature Dataset"
   ]
  },
  {
   "cell_type": "code",
   "execution_count": 6,
   "metadata": {},
   "outputs": [],
   "source": [
    "dataset_folder = 'dataset/'\n",
    "\n",
    "filenames = []\n",
    "for filename in os.listdir(dataset_folder):\n",
    "    if filename.find(\"_feature_\") > -1:\n",
    "        filenames.append(filename)"
   ]
  },
  {
   "cell_type": "code",
   "execution_count": 7,
   "metadata": {},
   "outputs": [
    {
     "data": {
      "text/plain": [
       "['test_all_feature_qrs_complex.csv',\n",
       " 'test_all_feature_qt_interval.csv',\n",
       " 'test_all_feature_rr_interval.csv',\n",
       " 'train_all_feature_qrs_complex.csv',\n",
       " 'train_all_feature_qt_interval.csv',\n",
       " 'train_all_feature_rr_interval.csv']"
      ]
     },
     "execution_count": 7,
     "metadata": {},
     "output_type": "execute_result"
    }
   ],
   "source": [
    "filenames"
   ]
  },
  {
   "cell_type": "code",
   "execution_count": 8,
   "metadata": {},
   "outputs": [
    {
     "name": "stdout",
     "output_type": "stream",
     "text": [
      "Reading feature qrs_complex...\n",
      "Reading feature rr_interval...\n",
      "Reading feature qt_interval...\n"
     ]
    }
   ],
   "source": [
    "selected_feature_len = len(feature_type.split(sep=\",\"))\n",
    "test_dfs = []\n",
    "train_dfs = []\n",
    "\n",
    "for i, feature in enumerate(feature_type.split(sep=\",\")):\n",
    "    print(\"Reading feature %s...\" % feature)\n",
    "    test = pd.read_csv(dataset_folder + \"test_all_feature_%s.csv\" % feature, header=None)\n",
    "    train = pd.read_csv(dataset_folder + \"train_all_feature_%s.csv\" % feature, header=None)\n",
    "    if i < (selected_feature_len - 1) :\n",
    "        test = test.drop(30, 1)\n",
    "        train = train.drop(30, 1)\n",
    "    test_dfs.append(test)\n",
    "    train_dfs.append(train)\n",
    "    \n",
    "test_df = pd.concat(test_dfs, axis=1, ignore_index=True)\n",
    "train_df = pd.concat(train_dfs, axis=1, ignore_index=True)"
   ]
  },
  {
   "cell_type": "markdown",
   "metadata": {},
   "source": [
    "- merge dataset"
   ]
  },
  {
   "cell_type": "code",
   "execution_count": 9,
   "metadata": {},
   "outputs": [],
   "source": [
    "featurs_dfs = pd.concat([test_df, train_df])"
   ]
  },
  {
   "cell_type": "code",
   "execution_count": 10,
   "metadata": {},
   "outputs": [
    {
     "data": {
      "text/html": [
       "<div>\n",
       "<style scoped>\n",
       "    .dataframe tbody tr th:only-of-type {\n",
       "        vertical-align: middle;\n",
       "    }\n",
       "\n",
       "    .dataframe tbody tr th {\n",
       "        vertical-align: top;\n",
       "    }\n",
       "\n",
       "    .dataframe thead th {\n",
       "        text-align: right;\n",
       "    }\n",
       "</style>\n",
       "<table border=\"1\" class=\"dataframe\">\n",
       "  <thead>\n",
       "    <tr style=\"text-align: right;\">\n",
       "      <th></th>\n",
       "      <th>0</th>\n",
       "      <th>1</th>\n",
       "      <th>2</th>\n",
       "      <th>3</th>\n",
       "      <th>4</th>\n",
       "      <th>5</th>\n",
       "      <th>6</th>\n",
       "      <th>7</th>\n",
       "      <th>8</th>\n",
       "      <th>9</th>\n",
       "      <th>...</th>\n",
       "      <th>81</th>\n",
       "      <th>82</th>\n",
       "      <th>83</th>\n",
       "      <th>84</th>\n",
       "      <th>85</th>\n",
       "      <th>86</th>\n",
       "      <th>87</th>\n",
       "      <th>88</th>\n",
       "      <th>89</th>\n",
       "      <th>90</th>\n",
       "    </tr>\n",
       "  </thead>\n",
       "  <tbody>\n",
       "    <tr>\n",
       "      <th>0</th>\n",
       "      <td>23.0</td>\n",
       "      <td>37.0</td>\n",
       "      <td>37.0</td>\n",
       "      <td>22.0</td>\n",
       "      <td>61.0</td>\n",
       "      <td>24.0</td>\n",
       "      <td>0.0</td>\n",
       "      <td>0.0</td>\n",
       "      <td>0.0</td>\n",
       "      <td>0.0</td>\n",
       "      <td>...</td>\n",
       "      <td>0.0</td>\n",
       "      <td>0.0</td>\n",
       "      <td>0.0</td>\n",
       "      <td>0.0</td>\n",
       "      <td>0.0</td>\n",
       "      <td>0.0</td>\n",
       "      <td>0.0</td>\n",
       "      <td>0.0</td>\n",
       "      <td>0.0</td>\n",
       "      <td>1.0</td>\n",
       "    </tr>\n",
       "    <tr>\n",
       "      <th>1</th>\n",
       "      <td>39.0</td>\n",
       "      <td>23.0</td>\n",
       "      <td>23.0</td>\n",
       "      <td>22.0</td>\n",
       "      <td>34.0</td>\n",
       "      <td>0.0</td>\n",
       "      <td>0.0</td>\n",
       "      <td>0.0</td>\n",
       "      <td>0.0</td>\n",
       "      <td>0.0</td>\n",
       "      <td>...</td>\n",
       "      <td>0.0</td>\n",
       "      <td>0.0</td>\n",
       "      <td>0.0</td>\n",
       "      <td>0.0</td>\n",
       "      <td>0.0</td>\n",
       "      <td>0.0</td>\n",
       "      <td>0.0</td>\n",
       "      <td>0.0</td>\n",
       "      <td>0.0</td>\n",
       "      <td>1.0</td>\n",
       "    </tr>\n",
       "    <tr>\n",
       "      <th>2</th>\n",
       "      <td>57.0</td>\n",
       "      <td>0.0</td>\n",
       "      <td>20.0</td>\n",
       "      <td>44.0</td>\n",
       "      <td>24.0</td>\n",
       "      <td>23.0</td>\n",
       "      <td>37.0</td>\n",
       "      <td>34.0</td>\n",
       "      <td>24.0</td>\n",
       "      <td>0.0</td>\n",
       "      <td>...</td>\n",
       "      <td>48.0</td>\n",
       "      <td>0.0</td>\n",
       "      <td>0.0</td>\n",
       "      <td>0.0</td>\n",
       "      <td>0.0</td>\n",
       "      <td>0.0</td>\n",
       "      <td>0.0</td>\n",
       "      <td>0.0</td>\n",
       "      <td>0.0</td>\n",
       "      <td>0.0</td>\n",
       "    </tr>\n",
       "    <tr>\n",
       "      <th>3</th>\n",
       "      <td>0.0</td>\n",
       "      <td>47.0</td>\n",
       "      <td>40.0</td>\n",
       "      <td>21.0</td>\n",
       "      <td>21.0</td>\n",
       "      <td>20.0</td>\n",
       "      <td>41.0</td>\n",
       "      <td>19.0</td>\n",
       "      <td>23.0</td>\n",
       "      <td>19.0</td>\n",
       "      <td>...</td>\n",
       "      <td>106.0</td>\n",
       "      <td>103.0</td>\n",
       "      <td>112.0</td>\n",
       "      <td>76.0</td>\n",
       "      <td>0.0</td>\n",
       "      <td>0.0</td>\n",
       "      <td>0.0</td>\n",
       "      <td>0.0</td>\n",
       "      <td>0.0</td>\n",
       "      <td>1.0</td>\n",
       "    </tr>\n",
       "    <tr>\n",
       "      <th>4</th>\n",
       "      <td>26.0</td>\n",
       "      <td>25.0</td>\n",
       "      <td>26.0</td>\n",
       "      <td>26.0</td>\n",
       "      <td>27.0</td>\n",
       "      <td>25.0</td>\n",
       "      <td>25.0</td>\n",
       "      <td>26.0</td>\n",
       "      <td>31.0</td>\n",
       "      <td>40.0</td>\n",
       "      <td>...</td>\n",
       "      <td>93.0</td>\n",
       "      <td>85.0</td>\n",
       "      <td>94.0</td>\n",
       "      <td>0.0</td>\n",
       "      <td>0.0</td>\n",
       "      <td>0.0</td>\n",
       "      <td>0.0</td>\n",
       "      <td>0.0</td>\n",
       "      <td>0.0</td>\n",
       "      <td>1.0</td>\n",
       "    </tr>\n",
       "  </tbody>\n",
       "</table>\n",
       "<p>5 rows × 91 columns</p>\n",
       "</div>"
      ],
      "text/plain": [
       "     0     1     2     3     4     5     6     7     8     9   ...     81  \\\n",
       "0  23.0  37.0  37.0  22.0  61.0  24.0   0.0   0.0   0.0   0.0  ...    0.0   \n",
       "1  39.0  23.0  23.0  22.0  34.0   0.0   0.0   0.0   0.0   0.0  ...    0.0   \n",
       "2  57.0   0.0  20.0  44.0  24.0  23.0  37.0  34.0  24.0   0.0  ...   48.0   \n",
       "3   0.0  47.0  40.0  21.0  21.0  20.0  41.0  19.0  23.0  19.0  ...  106.0   \n",
       "4  26.0  25.0  26.0  26.0  27.0  25.0  25.0  26.0  31.0  40.0  ...   93.0   \n",
       "\n",
       "      82     83    84   85   86   87   88   89   90  \n",
       "0    0.0    0.0   0.0  0.0  0.0  0.0  0.0  0.0  1.0  \n",
       "1    0.0    0.0   0.0  0.0  0.0  0.0  0.0  0.0  1.0  \n",
       "2    0.0    0.0   0.0  0.0  0.0  0.0  0.0  0.0  0.0  \n",
       "3  103.0  112.0  76.0  0.0  0.0  0.0  0.0  0.0  1.0  \n",
       "4   85.0   94.0   0.0  0.0  0.0  0.0  0.0  0.0  1.0  \n",
       "\n",
       "[5 rows x 91 columns]"
      ]
     },
     "execution_count": 10,
     "metadata": {},
     "output_type": "execute_result"
    }
   ],
   "source": [
    "featurs_dfs.head()"
   ]
  },
  {
   "cell_type": "code",
   "execution_count": 11,
   "metadata": {},
   "outputs": [],
   "source": [
    "X = featurs_dfs.values[:, :feature_pad*2*selected_feature_len].reshape(-1, feature_pad*2*selected_feature_len, 1)\n",
    "y = featurs_dfs.values[:, feature_pad*2*selected_feature_len]"
   ]
  },
  {
   "cell_type": "code",
   "execution_count": 12,
   "metadata": {},
   "outputs": [
    {
     "data": {
      "text/plain": [
       "((8492, 90, 1), (8492,))"
      ]
     },
     "execution_count": 12,
     "metadata": {},
     "output_type": "execute_result"
    }
   ],
   "source": [
    "X.shape, y.shape"
   ]
  },
  {
   "cell_type": "code",
   "execution_count": 13,
   "metadata": {},
   "outputs": [
    {
     "data": {
      "text/plain": [
       "44.83455147328204"
      ]
     },
     "execution_count": 13,
     "metadata": {},
     "output_type": "execute_result"
    }
   ],
   "source": [
    "np.mean(X)"
   ]
  },
  {
   "cell_type": "markdown",
   "metadata": {},
   "source": [
    "# 2. Splitting Dataset"
   ]
  },
  {
   "cell_type": "markdown",
   "metadata": {},
   "source": [
    "- convert to categorical"
   ]
  },
  {
   "cell_type": "code",
   "execution_count": 14,
   "metadata": {},
   "outputs": [
    {
     "name": "stdout",
     "output_type": "stream",
     "text": [
      "Categories : [0. 1.]\n"
     ]
    }
   ],
   "source": [
    "enc = OneHotEncoder()\n",
    "enc.fit(y.reshape(-1, 1))\n",
    "print(\"Categories :\", enc.categories_[0])\n",
    "y_categorical = enc.transform(y.reshape(-1, 1)).toarray()"
   ]
  },
  {
   "cell_type": "code",
   "execution_count": 15,
   "metadata": {},
   "outputs": [
    {
     "name": "stdout",
     "output_type": "stream",
     "text": [
      "splitting dataset, 15% for testing dan 85% for training\n",
      "dataset size after splitting :\n",
      "(7218, 2) (7218, 90, 1) (1274, 2) (1274, 90, 1)\n"
     ]
    }
   ],
   "source": [
    "print(\"splitting dataset, %d%% for testing dan %d%% for training\" % (test_size_split*100 , (1-test_size_split)*100))\n",
    "\n",
    "X_train, X_test, y_train, y_test = train_test_split(\n",
    "                                    X, y_categorical, \n",
    "                                    test_size=test_size_split,\n",
    "                                    random_state=42)\n",
    "\n",
    "print(\"dataset size after splitting :\")\n",
    "print(y_train.shape, X_train.shape, y_test.shape, X_test.shape)"
   ]
  },
  {
   "cell_type": "markdown",
   "metadata": {},
   "source": [
    "# 3. Utils Function"
   ]
  },
  {
   "cell_type": "code",
   "execution_count": 16,
   "metadata": {},
   "outputs": [],
   "source": [
    "import json\n",
    "\n",
    "def writeJson_config(Path, Name, Data, append):\n",
    "    mode = 'a+' if append else 'w'\n",
    "    full_path = Path + Name\n",
    "\n",
    "    with open(full_path, mode=mode) as json_config:\n",
    "        json.dump(Data, json.load(json_config) if append else json_config, indent=4, sort_keys=True)\n",
    "    \n",
    "    return 'success' \n"
   ]
  },
  {
   "cell_type": "code",
   "execution_count": 17,
   "metadata": {},
   "outputs": [],
   "source": [
    "import itertools\n",
    "def plot_confusion_matrix(cm, classes,\n",
    "                          normalize=False,\n",
    "                          title='Confusion matrix',\n",
    "                          cmap=plt.cm.Blues):\n",
    "    if normalize:\n",
    "        cm = cm.astype('float') / cm.sum(axis=1)[:, np.newaxis]\n",
    "\n",
    "    plt.figure(figsize=(5, 5))\n",
    "    \n",
    "    plt.imshow(cm, interpolation='nearest', cmap=cmap)\n",
    "    plt.title(title)\n",
    "    plt.colorbar()\n",
    "    tick_marks = np.arange(len(classes))\n",
    "    plt.xticks(tick_marks, classes, rotation=45)\n",
    "    plt.yticks(tick_marks, classes)\n",
    "\n",
    "    fmt = '.2f' if normalize else 'd'\n",
    "    thresh = cm.max() / 2.\n",
    "    for i, j in itertools.product(range(cm.shape[0]), range(cm.shape[1])):\n",
    "        plt.text(j, i, format(cm[i, j], fmt),\n",
    "                 horizontalalignment=\"center\",\n",
    "                 color=\"white\" if cm[i, j] > thresh else \"black\")\n",
    "\n",
    "    plt.tight_layout()\n",
    "    plt.ylabel('True label')\n",
    "    plt.xlabel('Predicted label')\n",
    "    \n",
    "    plt.savefig(experiment_folder + experiment_name +\n",
    "               \"/plot-confusion-matrix-%s.png\" % feature_type)\n",
    "    \n",
    "    plt.show()"
   ]
  },
  {
   "cell_type": "code",
   "execution_count": 18,
   "metadata": {},
   "outputs": [],
   "source": [
    "def evaluate_model(history):\n",
    "    \n",
    "    fig1, ax_acc = plt.subplots()\n",
    "    plt.plot(history.history['acc'])\n",
    "    plt.plot(history.history['val_acc'])\n",
    "    plt.xlabel('Epoch')\n",
    "    plt.ylabel('Accuracy')\n",
    "    plt.title('Model - Accuracy')\n",
    "    plt.legend(['Training', 'Validation'], loc='lower right')\n",
    "    plt.grid()\n",
    "    plt.show()\n",
    "    fig1.savefig(experiment_folder + experiment_name +\n",
    "               \"/plot-accuracy-%s.png\" % feature_type)\n",
    "    \n",
    "    fig2, ax_loss = plt.subplots()\n",
    "    plt.plot(history.history['loss'])\n",
    "    plt.plot(history.history['val_loss'])\n",
    "    plt.xlabel('Epoch')\n",
    "    plt.ylabel('Loss')\n",
    "    plt.title('Model- Loss')\n",
    "    plt.legend(['Training', 'Validation'], loc='upper right')\n",
    "    plt.grid()\n",
    "    plt.show()\n",
    "    fig2.savefig(experiment_folder + experiment_name +\n",
    "               \"/plot-loss-%s.png\" % feature_type)"
   ]
  },
  {
   "cell_type": "markdown",
   "metadata": {},
   "source": [
    "# 4. Building Convolutional Neural Network\n",
    "\n",
    "- Import Keras library"
   ]
  },
  {
   "cell_type": "code",
   "execution_count": 19,
   "metadata": {},
   "outputs": [],
   "source": [
    "from tensorflow.keras.models import Sequential\n",
    "from tensorflow.keras.layers import Dense, Conv1D, MaxPool1D, Flatten, Dropout\n",
    "#from tensorflow.keras.layers import Conv2D, MaxPool2D\n",
    "from tensorflow.keras.layers import Input\n",
    "from tensorflow.keras.layers import BatchNormalization\n",
    "from tensorflow.keras.callbacks import EarlyStopping, ModelCheckpoint\n",
    "\n",
    "from tensorflow import keras"
   ]
  },
  {
   "cell_type": "markdown",
   "metadata": {},
   "source": [
    "- Buat CNN Model dengan aritektur network : \n",
    "`CONV-POOL-CONV-POOL-CONV-POOL-FC`\n",
    "- CONV : 1D Convolutional Layer\n",
    "- POOL : MAX Pooling Layer\n",
    "- FC   : Dense Layer + Activation"
   ]
  },
  {
   "cell_type": "code",
   "execution_count": 20,
   "metadata": {},
   "outputs": [],
   "source": [
    "def cnn_model(max_len):\n",
    "    model = Sequential()\n",
    "    \n",
    "    model.add(Conv1D(filters=32,\n",
    "                     kernel_size=2,\n",
    "                     activation='relu',\n",
    "                     padding='same',\n",
    "                     input_shape=(max_len, 1)))\n",
    "    model.add(BatchNormalization())\n",
    "    model.add(MaxPool1D(pool_size=2,\n",
    "                        strides=2,\n",
    "                        padding='same'))\n",
    "    \n",
    "    \n",
    "    model.add(Conv1D(filters=32,\n",
    "                     kernel_size=3,\n",
    "                     activation='relu',\n",
    "                     padding='same'))\n",
    "    model.add(BatchNormalization())\n",
    "    model.add(MaxPool1D(pool_size=2,\n",
    "                        strides=2,\n",
    "                        padding='same'))\n",
    "    \n",
    "    \n",
    "    model.add(Conv1D(filters=32,\n",
    "                     kernel_size=3,\n",
    "                     activation='relu',\n",
    "                     padding='same'))\n",
    "    model.add(BatchNormalization())\n",
    "    model.add(MaxPool1D(pool_size=2,\n",
    "                        strides=2,\n",
    "                        padding='same'))\n",
    "    \n",
    "    \n",
    "    # Fully Connected layer (FC)\n",
    "    model.add(Flatten())\n",
    "    model.add(Dropout(0.3))\n",
    "    model.add(Dense(128, \n",
    "                    activation='relu'))\n",
    "    model.add(Dense(32, \n",
    "                    activation='relu'))\n",
    "    model.add(Dense(2, \n",
    "                    activation='softmax'))\n",
    "    \n",
    "    model.summary()\n",
    "    model.compile(optimizer='adam', \n",
    "                  loss='categorical_crossentropy',\n",
    "                  metrics = ['accuracy'])\n",
    "\n",
    "    return model"
   ]
  },
  {
   "cell_type": "markdown",
   "metadata": {},
   "source": [
    "- sekarang kita akan melakukan proses training model dengan memanfaatkan `.fit()` pada model yang kita buat diatas.\n",
    "- selain itu kita gunakan juka teknik `EarlyStoping()` untuk menghentikan proses training jika terjadi divergensi pada validation data yang diakibatkan oleh overfitting. \n",
    "- pada `EarlyStoping()` kita gunakan parmeter `patience=8` yang artinya jika proses training untuk 8 epoch tidak terjadi peningkatan maka hentikan proses training."
   ]
  },
  {
   "cell_type": "code",
   "execution_count": 21,
   "metadata": {},
   "outputs": [],
   "source": [
    "def check_model(model_, x, y, x_test, y_test, epochs_, batch_size_):\n",
    "    callbacks = [EarlyStopping(monitor='val_loss', patience=3),\n",
    "                 ModelCheckpoint(filepath='cnn_classif_best_model.h5', monitor='val_loss', save_best_only=True)]\n",
    "\n",
    "    hist = model_.fit(x, \n",
    "                      y,\n",
    "                      epochs=epochs_,\n",
    "                      callbacks=callbacks, \n",
    "                      batch_size=batch_size_,\n",
    "                      shuffle=True,\n",
    "                      #validation_split=0.15)\n",
    "                      validation_data=(x_test, y_test))\n",
    "    #model_.load_weights('cnn_classif_best_model.h5')\n",
    "    return hist "
   ]
  },
  {
   "cell_type": "markdown",
   "metadata": {},
   "source": [
    "# 5. Train Model CNN"
   ]
  },
  {
   "cell_type": "markdown",
   "metadata": {},
   "source": [
    "- jalankan proses training dengan `EPOCH` sebanyak 16 dan `BATCH_SIZE` sebesar 32"
   ]
  },
  {
   "cell_type": "code",
   "execution_count": 22,
   "metadata": {},
   "outputs": [
    {
     "name": "stdout",
     "output_type": "stream",
     "text": [
      "_________________________________________________________________\n",
      "Layer (type)                 Output Shape              Param #   \n",
      "=================================================================\n",
      "conv1d (Conv1D)              (None, 90, 32)            96        \n",
      "_________________________________________________________________\n",
      "batch_normalization (BatchNo (None, 90, 32)            128       \n",
      "_________________________________________________________________\n",
      "max_pooling1d (MaxPooling1D) (None, 45, 32)            0         \n",
      "_________________________________________________________________\n",
      "conv1d_1 (Conv1D)            (None, 45, 32)            3104      \n",
      "_________________________________________________________________\n",
      "batch_normalization_1 (Batch (None, 45, 32)            128       \n",
      "_________________________________________________________________\n",
      "max_pooling1d_1 (MaxPooling1 (None, 23, 32)            0         \n",
      "_________________________________________________________________\n",
      "conv1d_2 (Conv1D)            (None, 23, 32)            3104      \n",
      "_________________________________________________________________\n",
      "batch_normalization_2 (Batch (None, 23, 32)            128       \n",
      "_________________________________________________________________\n",
      "max_pooling1d_2 (MaxPooling1 (None, 12, 32)            0         \n",
      "_________________________________________________________________\n",
      "flatten (Flatten)            (None, 384)               0         \n",
      "_________________________________________________________________\n",
      "dropout (Dropout)            (None, 384)               0         \n",
      "_________________________________________________________________\n",
      "dense (Dense)                (None, 128)               49280     \n",
      "_________________________________________________________________\n",
      "dense_1 (Dense)              (None, 32)                4128      \n",
      "_________________________________________________________________\n",
      "dense_2 (Dense)              (None, 2)                 66        \n",
      "=================================================================\n",
      "Total params: 60,162\n",
      "Trainable params: 59,970\n",
      "Non-trainable params: 192\n",
      "_________________________________________________________________\n"
     ]
    }
   ],
   "source": [
    "max_len = X_train[0].shape[0]\n",
    "\n",
    "model = cnn_model(max_len)"
   ]
  },
  {
   "cell_type": "markdown",
   "metadata": {},
   "source": [
    "- Save model arhitecture"
   ]
  },
  {
   "cell_type": "code",
   "execution_count": 23,
   "metadata": {},
   "outputs": [],
   "source": [
    "with open(experiment_folder + experiment_name +\n",
    "              '/model_summary_%s.txt' % feature_type, 'w') as f:\n",
    "    model.summary(print_fn=lambda x: f.write(x + '\\n'))"
   ]
  },
  {
   "cell_type": "markdown",
   "metadata": {},
   "source": [
    "- Train model"
   ]
  },
  {
   "cell_type": "code",
   "execution_count": 24,
   "metadata": {},
   "outputs": [
    {
     "name": "stdout",
     "output_type": "stream",
     "text": [
      "Train on 7218 samples, validate on 1274 samples\n",
      "Epoch 1/10\n",
      "7218/7218 [==============================] - 14s 2ms/step - loss: 0.2140 - acc: 0.9160 - val_loss: 0.1177 - val_acc: 0.9639\n",
      "Epoch 2/10\n",
      "7218/7218 [==============================] - 6s 843us/step - loss: 0.1076 - acc: 0.9634 - val_loss: 0.0638 - val_acc: 0.9749\n",
      "Epoch 3/10\n",
      "7218/7218 [==============================] - 6s 784us/step - loss: 0.0828 - acc: 0.9708 - val_loss: 0.0903 - val_acc: 0.9647\n",
      "Epoch 4/10\n",
      "7218/7218 [==============================] - 6s 777us/step - loss: 0.0684 - acc: 0.9755 - val_loss: 0.0760 - val_acc: 0.9733\n",
      "Epoch 5/10\n",
      "7218/7218 [==============================] - 6s 854us/step - loss: 0.0688 - acc: 0.9762 - val_loss: 0.0507 - val_acc: 0.9819\n",
      "Epoch 6/10\n",
      "7218/7218 [==============================] - 5s 738us/step - loss: 0.0608 - acc: 0.9781 - val_loss: 0.0549 - val_acc: 0.9780\n",
      "Epoch 7/10\n",
      "7218/7218 [==============================] - 6s 805us/step - loss: 0.0565 - acc: 0.9791 - val_loss: 0.0890 - val_acc: 0.9725\n",
      "Epoch 8/10\n",
      "7218/7218 [==============================] - 6s 801us/step - loss: 0.0514 - acc: 0.9817 - val_loss: 0.0520 - val_acc: 0.9772\n"
     ]
    }
   ],
   "source": [
    "history=check_model(model, X_train, y_train, X_test, y_test, EPOCHS, BATCH_SIZE)\n"
   ]
  },
  {
   "cell_type": "markdown",
   "metadata": {},
   "source": [
    "- Save model binary"
   ]
  },
  {
   "cell_type": "code",
   "execution_count": 25,
   "metadata": {},
   "outputs": [],
   "source": [
    "model.save(experiment_folder + experiment_name + \"/CNN_Classification_model_%s.h5\" % feature_type)"
   ]
  },
  {
   "cell_type": "markdown",
   "metadata": {},
   "source": [
    "- save model training history (log)"
   ]
  },
  {
   "cell_type": "code",
   "execution_count": 26,
   "metadata": {},
   "outputs": [],
   "source": [
    "pd.DataFrame.from_dict(history.history).to_csv( experiment_folder + experiment_name +\n",
    "                                               '/history_train_CNN_feature_%s.csv' % feature_type, index=False)"
   ]
  },
  {
   "cell_type": "markdown",
   "metadata": {},
   "source": [
    "# 6. Evaluate Model\n",
    "\n",
    "- Plot Accuracy vs Epochs\n",
    "- Plot Loss vs Epochs"
   ]
  },
  {
   "cell_type": "code",
   "execution_count": 27,
   "metadata": {},
   "outputs": [
    {
     "data": {
      "image/png": "[encoded data removed]",
      "text/plain": [
       "<Figure size 432x288 with 1 Axes>"
      ]
     },
     "metadata": {
      "needs_background": "light"
     },
     "output_type": "display_data"
    },
    {
     "data": {
      "image/png": "[encoded data removed]",
      "text/plain": [
       "<Figure size 432x288 with 1 Axes>"
      ]
     },
     "metadata": {
      "needs_background": "light"
     },
     "output_type": "display_data"
    }
   ],
   "source": [
    "evaluate_model(history)    "
   ]
  },
  {
   "cell_type": "markdown",
   "metadata": {},
   "source": [
    "- Plot Confusion Matrix"
   ]
  },
  {
   "cell_type": "code",
   "execution_count": 28,
   "metadata": {},
   "outputs": [],
   "source": [
    "# predict test data\n",
    "y_pred=model.predict(X_test)"
   ]
  },
  {
   "cell_type": "code",
   "execution_count": 29,
   "metadata": {},
   "outputs": [
    {
     "data": {
      "image/png": "[encoded data removed]",
      "text/plain": [
       "<Figure size 360x360 with 2 Axes>"
      ]
     },
     "metadata": {
      "needs_background": "light"
     },
     "output_type": "display_data"
    }
   ],
   "source": [
    "# Compute confusion matrix\n",
    "cnf_matrix = confusion_matrix(y_test.argmax(axis=1), y_pred.argmax(axis=1))\n",
    "np.set_printoptions(precision=2)\n",
    "\n",
    "\n",
    "# Plot non-normalized confusion matrix\n",
    "plot_confusion_matrix(cnf_matrix, classes=['AF', 'N'],normalize=True,\n",
    "                      title='Confusion matrix, with normalization')"
   ]
  },
  {
   "cell_type": "markdown",
   "metadata": {},
   "source": [
    "- dari hasil plot confusion matrix, dapat dilihat tiap kelas memiliki banyak TRUE POSITIVE predicted data\n",
    "- semakin gelap kebiruan menunjukan banyaknya hasil predicted label untuk true label tersebut"
   ]
  },
  {
   "cell_type": "markdown",
   "metadata": {},
   "source": [
    "- Plot Classification Report"
   ]
  },
  {
   "cell_type": "code",
   "execution_count": 30,
   "metadata": {},
   "outputs": [
    {
     "name": "stdout",
     "output_type": "stream",
     "text": [
      "              precision    recall  f1-score   support\n",
      "\n",
      "          AF       0.98      0.97      0.98       666\n",
      "           N       0.97      0.98      0.98       608\n",
      "\n",
      "    accuracy                           0.98      1274\n",
      "   macro avg       0.98      0.98      0.98      1274\n",
      "weighted avg       0.98      0.98      0.98      1274\n",
      "\n"
     ]
    }
   ],
   "source": [
    "print(classification_report(y_test.argmax(axis=1), \n",
    "                            y_pred.argmax(axis=1), \n",
    "                            target_names=['AF', 'N']))"
   ]
  },
  {
   "cell_type": "markdown",
   "metadata": {},
   "source": [
    "- Jika kita lihat, nilai report untuk seluruh klas juga bagus, \n",
    "- Nilai recall dan precission juga tinggi, menunjukan model mampu memprediksi data dengan baik untuk seluruh data pada sclass tersebut "
   ]
  },
  {
   "cell_type": "markdown",
   "metadata": {},
   "source": [
    "- save report"
   ]
  },
  {
   "cell_type": "code",
   "execution_count": 31,
   "metadata": {},
   "outputs": [
    {
     "data": {
      "text/plain": [
       "'success'"
      ]
     },
     "execution_count": 31,
     "metadata": {},
     "output_type": "execute_result"
    }
   ],
   "source": [
    "report_dict = classification_report(y_test.argmax(axis=1), \n",
    "                            y_pred.argmax(axis=1), \n",
    "                            target_names=['AF', 'N'],\n",
    "                            output_dict=True)\n",
    "\n",
    "writeJson_config(experiment_folder + experiment_name + \"/\", \n",
    "                 \"report-%s.json\" % feature_type, report_dict, False)"
   ]
  },
  {
   "cell_type": "markdown",
   "metadata": {},
   "source": [
    "- save model spec"
   ]
  },
  {
   "cell_type": "code",
   "execution_count": 32,
   "metadata": {},
   "outputs": [
    {
     "data": {
      "text/plain": [
       "'success'"
      ]
     },
     "execution_count": 32,
     "metadata": {},
     "output_type": "execute_result"
    }
   ],
   "source": [
    "model_spec_dict = {}\n",
    "model_spec_dict['train_size'] = [y_train.shape, X_train.shape]\n",
    "model_spec_dict['test_size'] =  [y_test.shape, X_test.shape]\n",
    "model_spec_dict['epoch'] =  EPOCHS\n",
    "model_spec_dict['batch_size'] =  BATCH_SIZE\n",
    "model_spec_dict['test_size_split'] = test_size_split\n",
    "model_spec_dict['sample_size'] = sample_size\n",
    "model_spec_dict['feature_pad'] = feature_pad\n",
    "\n",
    "writeJson_config(experiment_folder + experiment_name + \"/\", \n",
    "                 \"model-spec-%s.json\" % feature_type, model_spec_dict, False)"
   ]
  },
  {
   "cell_type": "markdown",
   "metadata": {},
   "source": [
    "- Update Experiment Header"
   ]
  },
  {
   "cell_type": "code",
   "execution_count": 33,
   "metadata": {},
   "outputs": [],
   "source": [
    "with open(experiment_folder + \n",
    "              '/experiment_header.txt', 'a') as f:\n",
    "    f.write(\"Experiment Name \\t: %s \\n\" % experiment_name)\n",
    "    f.write(\"Accuracy \\t\\t: %.4f\\n\\n\\n\" % report_dict['accuracy'])"
   ]
  },
  {
   "cell_type": "markdown",
   "metadata": {},
   "source": [
    "- calculate statistical feature"
   ]
  },
  {
   "cell_type": "code",
   "execution_count": 34,
   "metadata": {},
   "outputs": [],
   "source": [
    "statistical_summary = {}\n",
    "\n",
    "for i, feature in enumerate(feature_type.split(sep=\",\")):\n",
    "    dfs = pd.concat([test_dfs[i], train_dfs[i]])\n",
    "    dfs_x = dfs.values[:, :feature_pad*2]\n",
    "    statistical_summary[feature] = {}\n",
    "    statistical_summary[feature]['mean'] = np.mean(dfs_x)\n",
    "    statistical_summary[feature]['median'] = np.median(dfs_x)\n",
    "    statistical_summary[feature]['min'] = np.min(dfs_x)\n",
    "    statistical_summary[feature]['max'] = np.max(dfs_x)"
   ]
  },
  {
   "cell_type": "code",
   "execution_count": 35,
   "metadata": {},
   "outputs": [
    {
     "data": {
      "text/plain": [
       "{'qrs_complex': {'mean': 15.177268802009735,\n",
       "  'median': 0.0,\n",
       "  'min': 0.0,\n",
       "  'max': 137.0},\n",
       " 'rr_interval': {'mean': 80.77922358298007,\n",
       "  'median': 0.0,\n",
       "  'min': 0.0,\n",
       "  'max': 818.0},\n",
       " 'qt_interval': {'mean': 38.547162034856335,\n",
       "  'median': 0.0,\n",
       "  'min': 0.0,\n",
       "  'max': 211.0}}"
      ]
     },
     "execution_count": 35,
     "metadata": {},
     "output_type": "execute_result"
    }
   ],
   "source": [
    "statistical_summary"
   ]
  },
  {
   "cell_type": "code",
   "execution_count": 36,
   "metadata": {},
   "outputs": [
    {
     "data": {
      "text/plain": [
       "'success'"
      ]
     },
     "execution_count": 36,
     "metadata": {},
     "output_type": "execute_result"
    }
   ],
   "source": [
    "writeJson_config(experiment_folder + experiment_name + \"/\", \n",
    "                 \"statistical_summary-%s.json\" % feature_type, statistical_summary, False)"
   ]
  },
  {
   "cell_type": "markdown",
   "metadata": {},
   "source": [
    "- move best experiment to main dir (>= threshold accuracy)"
   ]
  },
  {
   "cell_type": "code",
   "execution_count": 37,
   "metadata": {},
   "outputs": [
    {
     "name": "stdout",
     "output_type": "stream",
     "text": [
      "[INFO] success move best result to main dir!\n"
     ]
    }
   ],
   "source": [
    "if report_dict['accuracy'] >= threshold_acc:\n",
    "    import shutil\n",
    "    \n",
    "    shutil.copy(experiment_folder + experiment_name + \"/plot-accuracy-%s.png\" % feature_type, \"5. plot-accuracy-%s.png\" % feature_type)\n",
    "    shutil.copy(experiment_folder + experiment_name + \"/plot-loss-%s.png\" % feature_type, \"5. plot-loss-%s.png\" % feature_type)\n",
    "    shutil.copy(experiment_folder + experiment_name + \"/plot-confusion-matrix-%s.png\" % feature_type, \"5. plot-confusion-matrix-%s.png\" % feature_type)\n",
    "    shutil.copy(experiment_folder + experiment_name + \"/history_train_CNN_feature_%s.csv\" % feature_type, \"history_train_CNN_feature_%s.csv\" % feature_type)\n",
    "    shutil.copy(experiment_folder + experiment_name + \"/report-%s.json\" % feature_type, \"classification-report-%s.json\" % feature_type)\n",
    "    shutil.copy(experiment_folder + experiment_name + \"/CNN_Classification_model_%s.h5\" % feature_type, \"CNN_Classification_model_%s.h5\" % feature_type)\n",
    "    shutil.copy(experiment_folder + experiment_name + \"/statistical_summary-%s.json\" % feature_type, \"statistical_summary-%s.json\" % feature_type)\n",
    "    print(\"[INFO] success move best result to main dir!\")\n",
    "else :\n",
    "    print(\"[INFO] accuracy %.4f, is under threshold !\" % report_dict['accuracy'])"
   ]
  },
  {
   "cell_type": "code",
   "execution_count": null,
   "metadata": {},
   "outputs": [],
   "source": []
  }
 ],
 "metadata": {
  "kernelspec": {
   "display_name": "Python [conda env:GPU_ENV]",
   "language": "python",
   "name": "conda-env-GPU_ENV-py"
  },
  "language_info": {
   "codemirror_mode": {
    "name": "ipython",
    "version": 3
   },
   "file_extension": ".py",
   "mimetype": "text/x-python",
   "name": "python",
   "nbconvert_exporter": "python",
   "pygments_lexer": "ipython3",
   "version": "3.6.12"
  }
 },
 "nbformat": 4,
 "nbformat_minor": 4
}
