{
 "cells": [
  {
   "cell_type": "code",
   "execution_count": 4,
   "metadata": {},
   "outputs": [],
   "source": [
    "import pandas as pd\n",
    "import numpy as np \n",
    "import matplotlib.pyplot as plt"
   ]
  },
  {
   "cell_type": "markdown",
   "metadata": {},
   "source": [
    "___\n",
    "# 1. Merge All AFDB Dataset into one CSV"
   ]
  },
  {
   "cell_type": "code",
   "execution_count": 12,
   "metadata": {},
   "outputs": [],
   "source": [
    "import os\n",
    "\n",
    "dataset_folder = 'dataset/'\n",
    "filenames = []\n",
    "for filename in os.listdir(dataset_folder):\n",
    "    if filename.find(\"sequence_16s_2_ch.csv\") > -1 and filename.find(\"AFDB_\") > -1:\n",
    "        filenames.append(filename)"
   ]
  },
  {
   "cell_type": "code",
   "execution_count": 13,
   "metadata": {},
   "outputs": [
    {
     "data": {
      "text/plain": [
       "['AFDB_04015_sequence_16s_2_ch.csv']"
      ]
     },
     "execution_count": 13,
     "metadata": {},
     "output_type": "execute_result"
    }
   ],
   "source": [
    "filenames"
   ]
  },
  {
   "cell_type": "code",
   "execution_count": 14,
   "metadata": {},
   "outputs": [],
   "source": [
    "dfs = []\n",
    "for name in filenames :\n",
    "    df = pd.read_csv(dataset_folder + name, header=None)\n",
    "    dfs.append(df)"
   ]
  },
  {
   "cell_type": "code",
   "execution_count": 15,
   "metadata": {},
   "outputs": [],
   "source": [
    "dfs_all = pd.concat(dfs, ignore_index=True)"
   ]
  },
  {
   "cell_type": "code",
   "execution_count": 16,
   "metadata": {},
   "outputs": [
    {
     "data": {
      "text/html": [
       "<div>\n",
       "<style scoped>\n",
       "    .dataframe tbody tr th:only-of-type {\n",
       "        vertical-align: middle;\n",
       "    }\n",
       "\n",
       "    .dataframe tbody tr th {\n",
       "        vertical-align: top;\n",
       "    }\n",
       "\n",
       "    .dataframe thead th {\n",
       "        text-align: right;\n",
       "    }\n",
       "</style>\n",
       "<table border=\"1\" class=\"dataframe\">\n",
       "  <thead>\n",
       "    <tr style=\"text-align: right;\">\n",
       "      <th></th>\n",
       "      <th>0</th>\n",
       "      <th>1</th>\n",
       "      <th>2</th>\n",
       "      <th>3</th>\n",
       "      <th>4</th>\n",
       "      <th>5</th>\n",
       "      <th>6</th>\n",
       "      <th>7</th>\n",
       "      <th>8</th>\n",
       "      <th>9</th>\n",
       "      <th>...</th>\n",
       "      <th>7991</th>\n",
       "      <th>7992</th>\n",
       "      <th>7993</th>\n",
       "      <th>7994</th>\n",
       "      <th>7995</th>\n",
       "      <th>7996</th>\n",
       "      <th>7997</th>\n",
       "      <th>7998</th>\n",
       "      <th>7999</th>\n",
       "      <th>8000</th>\n",
       "    </tr>\n",
       "  </thead>\n",
       "  <tbody>\n",
       "    <tr>\n",
       "      <th>34</th>\n",
       "      <td>0.020966</td>\n",
       "      <td>0.006615</td>\n",
       "      <td>-0.003311</td>\n",
       "      <td>-0.019876</td>\n",
       "      <td>-0.023163</td>\n",
       "      <td>-0.022021</td>\n",
       "      <td>-0.038578</td>\n",
       "      <td>-0.024138</td>\n",
       "      <td>-0.022955</td>\n",
       "      <td>-0.023950</td>\n",
       "      <td>...</td>\n",
       "      <td>0.0</td>\n",
       "      <td>0.0</td>\n",
       "      <td>0.0</td>\n",
       "      <td>0.0</td>\n",
       "      <td>0.0</td>\n",
       "      <td>0.0</td>\n",
       "      <td>0.0</td>\n",
       "      <td>0.0</td>\n",
       "      <td>0.0</td>\n",
       "      <td>AF</td>\n",
       "    </tr>\n",
       "    <tr>\n",
       "      <th>35</th>\n",
       "      <td>-0.000728</td>\n",
       "      <td>-0.000952</td>\n",
       "      <td>-0.001176</td>\n",
       "      <td>-0.014042</td>\n",
       "      <td>-0.016372</td>\n",
       "      <td>-0.006058</td>\n",
       "      <td>0.010583</td>\n",
       "      <td>-0.002266</td>\n",
       "      <td>-0.000354</td>\n",
       "      <td>0.012111</td>\n",
       "      <td>...</td>\n",
       "      <td>0.0</td>\n",
       "      <td>0.0</td>\n",
       "      <td>0.0</td>\n",
       "      <td>0.0</td>\n",
       "      <td>0.0</td>\n",
       "      <td>0.0</td>\n",
       "      <td>0.0</td>\n",
       "      <td>0.0</td>\n",
       "      <td>0.0</td>\n",
       "      <td>AF</td>\n",
       "    </tr>\n",
       "    <tr>\n",
       "      <th>36</th>\n",
       "      <td>-0.177102</td>\n",
       "      <td>-0.083226</td>\n",
       "      <td>0.259867</td>\n",
       "      <td>0.305790</td>\n",
       "      <td>0.328916</td>\n",
       "      <td>0.333839</td>\n",
       "      <td>0.313721</td>\n",
       "      <td>0.293728</td>\n",
       "      <td>0.271592</td>\n",
       "      <td>0.265618</td>\n",
       "      <td>...</td>\n",
       "      <td>0.0</td>\n",
       "      <td>0.0</td>\n",
       "      <td>0.0</td>\n",
       "      <td>0.0</td>\n",
       "      <td>0.0</td>\n",
       "      <td>0.0</td>\n",
       "      <td>0.0</td>\n",
       "      <td>0.0</td>\n",
       "      <td>0.0</td>\n",
       "      <td>AF</td>\n",
       "    </tr>\n",
       "    <tr>\n",
       "      <th>37</th>\n",
       "      <td>0.160695</td>\n",
       "      <td>0.123787</td>\n",
       "      <td>0.109377</td>\n",
       "      <td>0.103964</td>\n",
       "      <td>0.082797</td>\n",
       "      <td>0.066124</td>\n",
       "      <td>0.040442</td>\n",
       "      <td>0.034996</td>\n",
       "      <td>0.016034</td>\n",
       "      <td>0.010551</td>\n",
       "      <td>...</td>\n",
       "      <td>0.0</td>\n",
       "      <td>0.0</td>\n",
       "      <td>0.0</td>\n",
       "      <td>0.0</td>\n",
       "      <td>0.0</td>\n",
       "      <td>0.0</td>\n",
       "      <td>0.0</td>\n",
       "      <td>0.0</td>\n",
       "      <td>0.0</td>\n",
       "      <td>AF</td>\n",
       "    </tr>\n",
       "    <tr>\n",
       "      <th>38</th>\n",
       "      <td>0.086286</td>\n",
       "      <td>0.103435</td>\n",
       "      <td>0.125031</td>\n",
       "      <td>0.153294</td>\n",
       "      <td>0.183778</td>\n",
       "      <td>0.300955</td>\n",
       "      <td>0.484815</td>\n",
       "      <td>0.628647</td>\n",
       "      <td>0.712436</td>\n",
       "      <td>0.756179</td>\n",
       "      <td>...</td>\n",
       "      <td>0.0</td>\n",
       "      <td>0.0</td>\n",
       "      <td>0.0</td>\n",
       "      <td>0.0</td>\n",
       "      <td>0.0</td>\n",
       "      <td>0.0</td>\n",
       "      <td>0.0</td>\n",
       "      <td>0.0</td>\n",
       "      <td>0.0</td>\n",
       "      <td>AF</td>\n",
       "    </tr>\n",
       "  </tbody>\n",
       "</table>\n",
       "<p>5 rows × 8001 columns</p>\n",
       "</div>"
      ],
      "text/plain": [
       "        0         1         2         3         4         5         6     \\\n",
       "34  0.020966  0.006615 -0.003311 -0.019876 -0.023163 -0.022021 -0.038578   \n",
       "35 -0.000728 -0.000952 -0.001176 -0.014042 -0.016372 -0.006058  0.010583   \n",
       "36 -0.177102 -0.083226  0.259867  0.305790  0.328916  0.333839  0.313721   \n",
       "37  0.160695  0.123787  0.109377  0.103964  0.082797  0.066124  0.040442   \n",
       "38  0.086286  0.103435  0.125031  0.153294  0.183778  0.300955  0.484815   \n",
       "\n",
       "        7         8         9     ...  7991  7992  7993  7994  7995  7996  \\\n",
       "34 -0.024138 -0.022955 -0.023950  ...   0.0   0.0   0.0   0.0   0.0   0.0   \n",
       "35 -0.002266 -0.000354  0.012111  ...   0.0   0.0   0.0   0.0   0.0   0.0   \n",
       "36  0.293728  0.271592  0.265618  ...   0.0   0.0   0.0   0.0   0.0   0.0   \n",
       "37  0.034996  0.016034  0.010551  ...   0.0   0.0   0.0   0.0   0.0   0.0   \n",
       "38  0.628647  0.712436  0.756179  ...   0.0   0.0   0.0   0.0   0.0   0.0   \n",
       "\n",
       "    7997  7998  7999  8000  \n",
       "34   0.0   0.0   0.0    AF  \n",
       "35   0.0   0.0   0.0    AF  \n",
       "36   0.0   0.0   0.0    AF  \n",
       "37   0.0   0.0   0.0    AF  \n",
       "38   0.0   0.0   0.0    AF  \n",
       "\n",
       "[5 rows x 8001 columns]"
      ]
     },
     "execution_count": 16,
     "metadata": {},
     "output_type": "execute_result"
    }
   ],
   "source": [
    "dfs_all.tail()"
   ]
  },
  {
   "cell_type": "code",
   "execution_count": 17,
   "metadata": {},
   "outputs": [
    {
     "name": "stdout",
     "output_type": "stream",
     "text": [
      "<class 'pandas.core.frame.DataFrame'>\n",
      "RangeIndex: 39 entries, 0 to 38\n",
      "Columns: 8001 entries, 0 to 8000\n",
      "dtypes: float64(8000), object(1)\n",
      "memory usage: 2.4+ MB\n"
     ]
    }
   ],
   "source": [
    "dfs_all.info()"
   ]
  },
  {
   "cell_type": "code",
   "execution_count": 18,
   "metadata": {},
   "outputs": [],
   "source": [
    "dfs_all.to_csv(dataset_folder + \"AFDB_all.csv\", index=None, header=None)"
   ]
  },
  {
   "cell_type": "code",
   "execution_count": null,
   "metadata": {},
   "outputs": [],
   "source": []
  },
  {
   "cell_type": "markdown",
   "metadata": {},
   "source": [
    "___\n",
    "# 2. Merge All NSRDB Dataset into one CSV"
   ]
  },
  {
   "cell_type": "code",
   "execution_count": 19,
   "metadata": {},
   "outputs": [],
   "source": [
    "dataset_folder = 'dataset/'\n",
    "filenames = []\n",
    "for filename in os.listdir(dataset_folder):\n",
    "    if  filename.find(\"sequence_16s_2_ch.csv\") > -1 and filename.find(\"NSRDB_\") > -1:\n",
    "        filenames.append(filename)"
   ]
  },
  {
   "cell_type": "code",
   "execution_count": 20,
   "metadata": {},
   "outputs": [
    {
     "data": {
      "text/plain": [
       "['NSRDB_NSRDB record_16265_sequence_16s_2_ch.csv']"
      ]
     },
     "execution_count": 20,
     "metadata": {},
     "output_type": "execute_result"
    }
   ],
   "source": [
    "filenames"
   ]
  },
  {
   "cell_type": "code",
   "execution_count": 21,
   "metadata": {},
   "outputs": [],
   "source": [
    "normal_dfs = []\n",
    "for name in filenames :\n",
    "    normal_df = pd.read_csv(dataset_folder + name, header=None)\n",
    "    normal_dfs.append(normal_df)"
   ]
  },
  {
   "cell_type": "code",
   "execution_count": 22,
   "metadata": {},
   "outputs": [],
   "source": [
    "normal_dfs_all = pd.concat(normal_dfs, ignore_index=True)"
   ]
  },
  {
   "cell_type": "code",
   "execution_count": 23,
   "metadata": {},
   "outputs": [
    {
     "data": {
      "text/html": [
       "<div>\n",
       "<style scoped>\n",
       "    .dataframe tbody tr th:only-of-type {\n",
       "        vertical-align: middle;\n",
       "    }\n",
       "\n",
       "    .dataframe tbody tr th {\n",
       "        vertical-align: top;\n",
       "    }\n",
       "\n",
       "    .dataframe thead th {\n",
       "        text-align: right;\n",
       "    }\n",
       "</style>\n",
       "<table border=\"1\" class=\"dataframe\">\n",
       "  <thead>\n",
       "    <tr style=\"text-align: right;\">\n",
       "      <th></th>\n",
       "      <th>0</th>\n",
       "      <th>1</th>\n",
       "      <th>2</th>\n",
       "      <th>3</th>\n",
       "      <th>4</th>\n",
       "      <th>5</th>\n",
       "      <th>6</th>\n",
       "      <th>7</th>\n",
       "      <th>8</th>\n",
       "      <th>9</th>\n",
       "      <th>...</th>\n",
       "      <th>7991</th>\n",
       "      <th>7992</th>\n",
       "      <th>7993</th>\n",
       "      <th>7994</th>\n",
       "      <th>7995</th>\n",
       "      <th>7996</th>\n",
       "      <th>7997</th>\n",
       "      <th>7998</th>\n",
       "      <th>7999</th>\n",
       "      <th>8000</th>\n",
       "    </tr>\n",
       "  </thead>\n",
       "  <tbody>\n",
       "    <tr>\n",
       "      <th>77</th>\n",
       "      <td>0.021156</td>\n",
       "      <td>0.011790</td>\n",
       "      <td>0.002424</td>\n",
       "      <td>-0.011178</td>\n",
       "      <td>-0.024779</td>\n",
       "      <td>-0.017204</td>\n",
       "      <td>-0.009629</td>\n",
       "      <td>-0.010523</td>\n",
       "      <td>-0.011417</td>\n",
       "      <td>-0.005956</td>\n",
       "      <td>...</td>\n",
       "      <td>0.0</td>\n",
       "      <td>0.0</td>\n",
       "      <td>0.0</td>\n",
       "      <td>0.0</td>\n",
       "      <td>0.0</td>\n",
       "      <td>0.0</td>\n",
       "      <td>0.0</td>\n",
       "      <td>0.0</td>\n",
       "      <td>0.0</td>\n",
       "      <td>N</td>\n",
       "    </tr>\n",
       "    <tr>\n",
       "      <th>78</th>\n",
       "      <td>0.041913</td>\n",
       "      <td>0.040776</td>\n",
       "      <td>0.039638</td>\n",
       "      <td>0.042782</td>\n",
       "      <td>0.045925</td>\n",
       "      <td>0.049068</td>\n",
       "      <td>0.052211</td>\n",
       "      <td>0.048932</td>\n",
       "      <td>0.045653</td>\n",
       "      <td>0.048795</td>\n",
       "      <td>...</td>\n",
       "      <td>0.0</td>\n",
       "      <td>0.0</td>\n",
       "      <td>0.0</td>\n",
       "      <td>0.0</td>\n",
       "      <td>0.0</td>\n",
       "      <td>0.0</td>\n",
       "      <td>0.0</td>\n",
       "      <td>0.0</td>\n",
       "      <td>0.0</td>\n",
       "      <td>N</td>\n",
       "    </tr>\n",
       "    <tr>\n",
       "      <th>79</th>\n",
       "      <td>-0.016565</td>\n",
       "      <td>-0.019446</td>\n",
       "      <td>-0.022328</td>\n",
       "      <td>-0.016769</td>\n",
       "      <td>-0.011211</td>\n",
       "      <td>-0.007760</td>\n",
       "      <td>-0.004308</td>\n",
       "      <td>-0.005072</td>\n",
       "      <td>-0.005835</td>\n",
       "      <td>-0.002371</td>\n",
       "      <td>...</td>\n",
       "      <td>0.0</td>\n",
       "      <td>0.0</td>\n",
       "      <td>0.0</td>\n",
       "      <td>0.0</td>\n",
       "      <td>0.0</td>\n",
       "      <td>0.0</td>\n",
       "      <td>0.0</td>\n",
       "      <td>0.0</td>\n",
       "      <td>0.0</td>\n",
       "      <td>N</td>\n",
       "    </tr>\n",
       "    <tr>\n",
       "      <th>80</th>\n",
       "      <td>0.154396</td>\n",
       "      <td>0.052009</td>\n",
       "      <td>-0.050379</td>\n",
       "      <td>-0.099660</td>\n",
       "      <td>-0.148940</td>\n",
       "      <td>-0.000658</td>\n",
       "      <td>0.147624</td>\n",
       "      <td>0.546586</td>\n",
       "      <td>0.945547</td>\n",
       "      <td>0.972773</td>\n",
       "      <td>...</td>\n",
       "      <td>0.0</td>\n",
       "      <td>0.0</td>\n",
       "      <td>0.0</td>\n",
       "      <td>0.0</td>\n",
       "      <td>0.0</td>\n",
       "      <td>0.0</td>\n",
       "      <td>0.0</td>\n",
       "      <td>0.0</td>\n",
       "      <td>0.0</td>\n",
       "      <td>N</td>\n",
       "    </tr>\n",
       "    <tr>\n",
       "      <th>81</th>\n",
       "      <td>0.013561</td>\n",
       "      <td>0.016992</td>\n",
       "      <td>0.020422</td>\n",
       "      <td>0.025960</td>\n",
       "      <td>0.031497</td>\n",
       "      <td>0.032820</td>\n",
       "      <td>0.034143</td>\n",
       "      <td>0.039680</td>\n",
       "      <td>0.045217</td>\n",
       "      <td>0.059183</td>\n",
       "      <td>...</td>\n",
       "      <td>0.0</td>\n",
       "      <td>0.0</td>\n",
       "      <td>0.0</td>\n",
       "      <td>0.0</td>\n",
       "      <td>0.0</td>\n",
       "      <td>0.0</td>\n",
       "      <td>0.0</td>\n",
       "      <td>0.0</td>\n",
       "      <td>0.0</td>\n",
       "      <td>N</td>\n",
       "    </tr>\n",
       "  </tbody>\n",
       "</table>\n",
       "<p>5 rows × 8001 columns</p>\n",
       "</div>"
      ],
      "text/plain": [
       "        0         1         2         3         4         5         6     \\\n",
       "77  0.021156  0.011790  0.002424 -0.011178 -0.024779 -0.017204 -0.009629   \n",
       "78  0.041913  0.040776  0.039638  0.042782  0.045925  0.049068  0.052211   \n",
       "79 -0.016565 -0.019446 -0.022328 -0.016769 -0.011211 -0.007760 -0.004308   \n",
       "80  0.154396  0.052009 -0.050379 -0.099660 -0.148940 -0.000658  0.147624   \n",
       "81  0.013561  0.016992  0.020422  0.025960  0.031497  0.032820  0.034143   \n",
       "\n",
       "        7         8         9     ...  7991  7992  7993  7994  7995  7996  \\\n",
       "77 -0.010523 -0.011417 -0.005956  ...   0.0   0.0   0.0   0.0   0.0   0.0   \n",
       "78  0.048932  0.045653  0.048795  ...   0.0   0.0   0.0   0.0   0.0   0.0   \n",
       "79 -0.005072 -0.005835 -0.002371  ...   0.0   0.0   0.0   0.0   0.0   0.0   \n",
       "80  0.546586  0.945547  0.972773  ...   0.0   0.0   0.0   0.0   0.0   0.0   \n",
       "81  0.039680  0.045217  0.059183  ...   0.0   0.0   0.0   0.0   0.0   0.0   \n",
       "\n",
       "    7997  7998  7999  8000  \n",
       "77   0.0   0.0   0.0     N  \n",
       "78   0.0   0.0   0.0     N  \n",
       "79   0.0   0.0   0.0     N  \n",
       "80   0.0   0.0   0.0     N  \n",
       "81   0.0   0.0   0.0     N  \n",
       "\n",
       "[5 rows x 8001 columns]"
      ]
     },
     "execution_count": 23,
     "metadata": {},
     "output_type": "execute_result"
    }
   ],
   "source": [
    "normal_dfs_all.tail()"
   ]
  },
  {
   "cell_type": "code",
   "execution_count": 24,
   "metadata": {},
   "outputs": [
    {
     "name": "stdout",
     "output_type": "stream",
     "text": [
      "<class 'pandas.core.frame.DataFrame'>\n",
      "RangeIndex: 82 entries, 0 to 81\n",
      "Columns: 8001 entries, 0 to 8000\n",
      "dtypes: float64(8000), object(1)\n",
      "memory usage: 5.0+ MB\n"
     ]
    }
   ],
   "source": [
    "normal_dfs_all.info()"
   ]
  },
  {
   "cell_type": "code",
   "execution_count": 25,
   "metadata": {},
   "outputs": [],
   "source": [
    "normal_dfs_all.to_csv(dataset_folder + \"NSRDB_all.csv\", index=None, header=None)"
   ]
  },
  {
   "cell_type": "markdown",
   "metadata": {},
   "source": [
    "___\n",
    "# 3. Remove Normal Sample from AFDB (train & test)"
   ]
  },
  {
   "cell_type": "code",
   "execution_count": 27,
   "metadata": {},
   "outputs": [],
   "source": [
    "dfs_all_AF = dfs_all[dfs_all[8000] == 'AF']"
   ]
  },
  {
   "cell_type": "code",
   "execution_count": 28,
   "metadata": {},
   "outputs": [
    {
     "data": {
      "text/html": [
       "<div>\n",
       "<style scoped>\n",
       "    .dataframe tbody tr th:only-of-type {\n",
       "        vertical-align: middle;\n",
       "    }\n",
       "\n",
       "    .dataframe tbody tr th {\n",
       "        vertical-align: top;\n",
       "    }\n",
       "\n",
       "    .dataframe thead th {\n",
       "        text-align: right;\n",
       "    }\n",
       "</style>\n",
       "<table border=\"1\" class=\"dataframe\">\n",
       "  <thead>\n",
       "    <tr style=\"text-align: right;\">\n",
       "      <th></th>\n",
       "      <th>0</th>\n",
       "      <th>1</th>\n",
       "      <th>2</th>\n",
       "      <th>3</th>\n",
       "      <th>4</th>\n",
       "      <th>5</th>\n",
       "      <th>6</th>\n",
       "      <th>7</th>\n",
       "      <th>8</th>\n",
       "      <th>9</th>\n",
       "      <th>...</th>\n",
       "      <th>7991</th>\n",
       "      <th>7992</th>\n",
       "      <th>7993</th>\n",
       "      <th>7994</th>\n",
       "      <th>7995</th>\n",
       "      <th>7996</th>\n",
       "      <th>7997</th>\n",
       "      <th>7998</th>\n",
       "      <th>7999</th>\n",
       "      <th>8000</th>\n",
       "    </tr>\n",
       "  </thead>\n",
       "  <tbody>\n",
       "    <tr>\n",
       "      <th>34</th>\n",
       "      <td>0.020966</td>\n",
       "      <td>0.006615</td>\n",
       "      <td>-0.003311</td>\n",
       "      <td>-0.019876</td>\n",
       "      <td>-0.023163</td>\n",
       "      <td>-0.022021</td>\n",
       "      <td>-0.038578</td>\n",
       "      <td>-0.024138</td>\n",
       "      <td>-0.022955</td>\n",
       "      <td>-0.023950</td>\n",
       "      <td>...</td>\n",
       "      <td>0.0</td>\n",
       "      <td>0.0</td>\n",
       "      <td>0.0</td>\n",
       "      <td>0.0</td>\n",
       "      <td>0.0</td>\n",
       "      <td>0.0</td>\n",
       "      <td>0.0</td>\n",
       "      <td>0.0</td>\n",
       "      <td>0.0</td>\n",
       "      <td>AF</td>\n",
       "    </tr>\n",
       "    <tr>\n",
       "      <th>35</th>\n",
       "      <td>-0.000728</td>\n",
       "      <td>-0.000952</td>\n",
       "      <td>-0.001176</td>\n",
       "      <td>-0.014042</td>\n",
       "      <td>-0.016372</td>\n",
       "      <td>-0.006058</td>\n",
       "      <td>0.010583</td>\n",
       "      <td>-0.002266</td>\n",
       "      <td>-0.000354</td>\n",
       "      <td>0.012111</td>\n",
       "      <td>...</td>\n",
       "      <td>0.0</td>\n",
       "      <td>0.0</td>\n",
       "      <td>0.0</td>\n",
       "      <td>0.0</td>\n",
       "      <td>0.0</td>\n",
       "      <td>0.0</td>\n",
       "      <td>0.0</td>\n",
       "      <td>0.0</td>\n",
       "      <td>0.0</td>\n",
       "      <td>AF</td>\n",
       "    </tr>\n",
       "    <tr>\n",
       "      <th>36</th>\n",
       "      <td>-0.177102</td>\n",
       "      <td>-0.083226</td>\n",
       "      <td>0.259867</td>\n",
       "      <td>0.305790</td>\n",
       "      <td>0.328916</td>\n",
       "      <td>0.333839</td>\n",
       "      <td>0.313721</td>\n",
       "      <td>0.293728</td>\n",
       "      <td>0.271592</td>\n",
       "      <td>0.265618</td>\n",
       "      <td>...</td>\n",
       "      <td>0.0</td>\n",
       "      <td>0.0</td>\n",
       "      <td>0.0</td>\n",
       "      <td>0.0</td>\n",
       "      <td>0.0</td>\n",
       "      <td>0.0</td>\n",
       "      <td>0.0</td>\n",
       "      <td>0.0</td>\n",
       "      <td>0.0</td>\n",
       "      <td>AF</td>\n",
       "    </tr>\n",
       "    <tr>\n",
       "      <th>37</th>\n",
       "      <td>0.160695</td>\n",
       "      <td>0.123787</td>\n",
       "      <td>0.109377</td>\n",
       "      <td>0.103964</td>\n",
       "      <td>0.082797</td>\n",
       "      <td>0.066124</td>\n",
       "      <td>0.040442</td>\n",
       "      <td>0.034996</td>\n",
       "      <td>0.016034</td>\n",
       "      <td>0.010551</td>\n",
       "      <td>...</td>\n",
       "      <td>0.0</td>\n",
       "      <td>0.0</td>\n",
       "      <td>0.0</td>\n",
       "      <td>0.0</td>\n",
       "      <td>0.0</td>\n",
       "      <td>0.0</td>\n",
       "      <td>0.0</td>\n",
       "      <td>0.0</td>\n",
       "      <td>0.0</td>\n",
       "      <td>AF</td>\n",
       "    </tr>\n",
       "    <tr>\n",
       "      <th>38</th>\n",
       "      <td>0.086286</td>\n",
       "      <td>0.103435</td>\n",
       "      <td>0.125031</td>\n",
       "      <td>0.153294</td>\n",
       "      <td>0.183778</td>\n",
       "      <td>0.300955</td>\n",
       "      <td>0.484815</td>\n",
       "      <td>0.628647</td>\n",
       "      <td>0.712436</td>\n",
       "      <td>0.756179</td>\n",
       "      <td>...</td>\n",
       "      <td>0.0</td>\n",
       "      <td>0.0</td>\n",
       "      <td>0.0</td>\n",
       "      <td>0.0</td>\n",
       "      <td>0.0</td>\n",
       "      <td>0.0</td>\n",
       "      <td>0.0</td>\n",
       "      <td>0.0</td>\n",
       "      <td>0.0</td>\n",
       "      <td>AF</td>\n",
       "    </tr>\n",
       "  </tbody>\n",
       "</table>\n",
       "<p>5 rows × 8001 columns</p>\n",
       "</div>"
      ],
      "text/plain": [
       "        0         1         2         3         4         5         6     \\\n",
       "34  0.020966  0.006615 -0.003311 -0.019876 -0.023163 -0.022021 -0.038578   \n",
       "35 -0.000728 -0.000952 -0.001176 -0.014042 -0.016372 -0.006058  0.010583   \n",
       "36 -0.177102 -0.083226  0.259867  0.305790  0.328916  0.333839  0.313721   \n",
       "37  0.160695  0.123787  0.109377  0.103964  0.082797  0.066124  0.040442   \n",
       "38  0.086286  0.103435  0.125031  0.153294  0.183778  0.300955  0.484815   \n",
       "\n",
       "        7         8         9     ...  7991  7992  7993  7994  7995  7996  \\\n",
       "34 -0.024138 -0.022955 -0.023950  ...   0.0   0.0   0.0   0.0   0.0   0.0   \n",
       "35 -0.002266 -0.000354  0.012111  ...   0.0   0.0   0.0   0.0   0.0   0.0   \n",
       "36  0.293728  0.271592  0.265618  ...   0.0   0.0   0.0   0.0   0.0   0.0   \n",
       "37  0.034996  0.016034  0.010551  ...   0.0   0.0   0.0   0.0   0.0   0.0   \n",
       "38  0.628647  0.712436  0.756179  ...   0.0   0.0   0.0   0.0   0.0   0.0   \n",
       "\n",
       "    7997  7998  7999  8000  \n",
       "34   0.0   0.0   0.0    AF  \n",
       "35   0.0   0.0   0.0    AF  \n",
       "36   0.0   0.0   0.0    AF  \n",
       "37   0.0   0.0   0.0    AF  \n",
       "38   0.0   0.0   0.0    AF  \n",
       "\n",
       "[5 rows x 8001 columns]"
      ]
     },
     "execution_count": 28,
     "metadata": {},
     "output_type": "execute_result"
    }
   ],
   "source": [
    "dfs_all_AF.tail()"
   ]
  },
  {
   "cell_type": "code",
   "execution_count": null,
   "metadata": {},
   "outputs": [],
   "source": []
  },
  {
   "cell_type": "markdown",
   "metadata": {},
   "source": [
    "___\n",
    "# 4. Concate AFDB & NSRDB Dataset"
   ]
  },
  {
   "cell_type": "code",
   "execution_count": 29,
   "metadata": {},
   "outputs": [],
   "source": [
    "dfs_AF_N = pd.concat([dfs_all_AF, normal_dfs_all])"
   ]
  },
  {
   "cell_type": "code",
   "execution_count": null,
   "metadata": {},
   "outputs": [],
   "source": []
  },
  {
   "cell_type": "markdown",
   "metadata": {},
   "source": [
    "___\n",
    "# 5. Balancing Dataset (After Concating with NSRDB)"
   ]
  },
  {
   "cell_type": "code",
   "execution_count": 30,
   "metadata": {},
   "outputs": [
    {
     "name": "stdout",
     "output_type": "stream",
     "text": [
      "N     82\n",
      "AF    12\n",
      "Name: 8000, dtype: int64\n"
     ]
    }
   ],
   "source": [
    "dfs_AF_N[8000]=dfs_AF_N[8000]\n",
    "equilibre=dfs_AF_N[8000].value_counts()\n",
    "\n",
    "print(equilibre)"
   ]
  },
  {
   "cell_type": "code",
   "execution_count": 32,
   "metadata": {},
   "outputs": [
    {
     "name": "stdout",
     "output_type": "stream",
     "text": [
      "Resample to 47\n"
     ]
    }
   ],
   "source": [
    "from sklearn.utils import resample\n",
    "\n",
    "dfs = []\n",
    "n_samples = equilibre.mean().astype(np.int0())\n",
    "print(\"Resample to\", n_samples)\n",
    "for i, key in enumerate(equilibre.keys()):\n",
    "    dfs.append(dfs_AF_N[dfs_AF_N[8000]==key])\n",
    "    dfs[i]=resample(dfs[i],replace=True,n_samples=n_samples,random_state=123)\n",
    "df_AF_N_balanced =pd.concat(dfs)"
   ]
  },
  {
   "cell_type": "code",
   "execution_count": 33,
   "metadata": {},
   "outputs": [],
   "source": [
    "df_AF_N_balanced.to_csv(dataset_folder + \"AFDB_NSRDB_all.csv\", index=None, header=None)"
   ]
  },
  {
   "cell_type": "code",
   "execution_count": null,
   "metadata": {},
   "outputs": [],
   "source": []
  }
 ],
 "metadata": {
  "kernelspec": {
   "display_name": "Python [conda env:GPU_ENV]",
   "language": "python",
   "name": "conda-env-GPU_ENV-py"
  },
  "language_info": {
   "codemirror_mode": {
    "name": "ipython",
    "version": 3
   },
   "file_extension": ".py",
   "mimetype": "text/x-python",
   "name": "python",
   "nbconvert_exporter": "python",
   "pygments_lexer": "ipython3",
   "version": "3.6.12"
  }
 },
 "nbformat": 4,
 "nbformat_minor": 4
}
